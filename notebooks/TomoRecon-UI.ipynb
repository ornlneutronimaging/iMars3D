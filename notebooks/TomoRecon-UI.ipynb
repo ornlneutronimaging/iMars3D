{
 "cells": [
  {
   "cell_type": "markdown",
   "metadata": {},
   "source": [
    "# Quick Interface Instructions:\n",
    "* Make a copy by clicking \"File->Make a copy\" in jupyter menu\n",
    "* Give the new notebook a good new name\n",
    "* Before start, make sure the circle indicating kernel status on the top-right corner is open (meaning jupyter kernel is ready)\n",
    "* Run the cells below sequentially\n",
    "* ** Shift-enter ** to run a cell\n",
    "* When cell number is '*', the kernel is busy calculating for you. Please wait.\n",
    "* Click a cell to edit"
   ]
  },
  {
   "cell_type": "markdown",
   "metadata": {},
   "source": [
    "# Import useful tools"
   ]
  },
  {
   "cell_type": "code",
   "execution_count": null,
   "metadata": {},
   "outputs": [],
   "source": [
    "# Be patient, this may take a little while\n",
    "# If you see \"In [*]\" to the left of this cell, it means it is busy computing, just wait a bit longer\n",
    "import os, shutil, numpy as np, glob, time, pickle as pkl, imars3d\n",
    "from imars3d.jnbui import ct_wizard, imageslider\n",
    "from imars3d.ImageFile import ImageFile\n",
    "\n",
    "# Be patient, this may take a little while too\n",
    "# %matplotlib notebook\n",
    "%matplotlib inline\n",
    "from matplotlib import pyplot as plt"
   ]
  },
  {
   "cell_type": "markdown",
   "metadata": {},
   "source": [
    "# Configuration Wizard\n",
    "The following inputs work:\n",
    "* IPTS number:    15518\n",
    "* Scan name:      derek_inj\n",
    "* CT signature:   Derek_injec\n",
    "* DF/OB files:    all files under df/ob dir"
   ]
  },
  {
   "cell_type": "markdown",
   "metadata": {},
   "source": [
    "## If start from scratch, use the following cell"
   ]
  },
  {
   "cell_type": "code",
   "execution_count": null,
   "metadata": {},
   "outputs": [],
   "source": [
    "config = ct_wizard.config()\n",
    "ct_wizard.wizard(config)"
   ]
  },
  {
   "cell_type": "markdown",
   "metadata": {},
   "source": [
    "## Or load previous reconstruction config. Uncomment to enable"
   ]
  },
  {
   "cell_type": "code",
   "execution_count": null,
   "metadata": {},
   "outputs": [],
   "source": [
    "# config = pkl.load(open('/HFIR/CG1D/IPTS-15518/shared/processed_data/jiaotest2/recon-config.pkl'))"
   ]
  },
  {
   "cell_type": "markdown",
   "metadata": {},
   "source": [
    "## Switch to output directory"
   ]
  },
  {
   "cell_type": "code",
   "execution_count": null,
   "metadata": {},
   "outputs": [],
   "source": [
    "%mkdir -p {config.outdir}\n",
    "if os.path.exists(imars3d.conf_path):\n",
    "    shutil.copyfile(imars3d.conf_path, os.path.join(config.outdir, imars3d.conf_path))\n",
    "%cd {config.outdir}"
   ]
  },
  {
   "cell_type": "markdown",
   "metadata": {},
   "source": [
    "## Save configuration"
   ]
  },
  {
   "cell_type": "code",
   "execution_count": null,
   "metadata": {},
   "outputs": [],
   "source": [
    "pkl.dump(config, open('recon-config.pkl', 'wb'))"
   ]
  },
  {
   "cell_type": "markdown",
   "metadata": {},
   "source": [
    "## Print configuration"
   ]
  },
  {
   "cell_type": "code",
   "execution_count": null,
   "metadata": {},
   "outputs": [],
   "source": [
    "for k, v in config.__dict__.items():\n",
    "    if k.startswith('_'): continue\n",
    "    sv = str(v)\n",
    "    if len(sv) > 60:\n",
    "        sv = sv[:50] + '...'\n",
    "    print \"{0:20}{1:<}\".format(k,sv)"
   ]
  },
  {
   "cell_type": "markdown",
   "metadata": {},
   "source": [
    "# Create CT data object"
   ]
  },
  {
   "cell_type": "code",
   "execution_count": null,
   "metadata": {},
   "outputs": [],
   "source": [
    "# import the CT class\n",
    "from imars3d.CT import CT"
   ]
  },
  {
   "cell_type": "code",
   "execution_count": null,
   "metadata": {},
   "outputs": [],
   "source": [
    "# ask for help\n",
    "# CT?"
   ]
  },
  {
   "cell_type": "code",
   "execution_count": null,
   "metadata": {},
   "outputs": [],
   "source": [
    "ct = CT(config.datadir, \n",
    "        CT_subdir=config.ct_dir, CT_identifier=config.ct_sig,\n",
    "        workdir=config.workdir, outdir=config.outdir,\n",
    "        ob_files=config.ob_files, df_files=config.df_files,\n",
    "        skip_df = getattr(config, 'skip_df', False)\n",
    "        # ob_identifier=ob_sig, df_identifier=df_sig\n",
    "       )"
   ]
  },
  {
   "cell_type": "markdown",
   "metadata": {},
   "source": [
    "## Clean up old files if desired. !!! Be very careful. Old results will be gone !!!"
   ]
  },
  {
   "cell_type": "code",
   "execution_count": null,
   "metadata": {},
   "outputs": [],
   "source": [
    "!rm -rf {config.workdir}/*\n",
    "!rm -f {config.outdir}/recon*.tiff"
   ]
  },
  {
   "cell_type": "code",
   "execution_count": null,
   "metadata": {},
   "outputs": [],
   "source": [
    "ls {config.outdir}"
   ]
  },
  {
   "cell_type": "markdown",
   "metadata": {},
   "source": [
    "# Preprocess - this takes a while"
   ]
  },
  {
   "cell_type": "code",
   "execution_count": null,
   "metadata": {},
   "outputs": [],
   "source": [
    "%%time\n",
    "ppd = ct.preprocess()"
   ]
  },
  {
   "cell_type": "markdown",
   "metadata": {},
   "source": [
    "# Find region of interests (ROI)"
   ]
  },
  {
   "cell_type": "code",
   "execution_count": null,
   "metadata": {},
   "outputs": [],
   "source": [
    "# Inspect the pre-processed image files \n",
    "# print ppd"
   ]
  },
  {
   "cell_type": "code",
   "execution_count": null,
   "metadata": {},
   "outputs": [],
   "source": [
    "w = imageslider.ImageSlider('ppd', ppd, 400, 400)\n",
    "w.show()"
   ]
  },
  {
   "cell_type": "markdown",
   "metadata": {},
   "source": [
    "Please look at the image and find the ROI.\n",
    "Write down the bounding box for the ROI.\n",
    "\n",
    "** For this sample, we can define the ROI as xmin=500, ymin=0, xmax=1600, ymax=2047 **"
   ]
  },
  {
   "cell_type": "markdown",
   "metadata": {},
   "source": [
    "## Run reconstruction"
   ]
  },
  {
   "cell_type": "code",
   "execution_count": null,
   "metadata": {},
   "outputs": [],
   "source": [
    "%%time\n",
    "# Now run the reconstruction. \n",
    "# Make sure to modify the crop_window and use the numbers obtained from above\n",
    "# The reconstruction will take 5-60 minutes.\n",
    "ct.recon(crop_window=(500,0,1600,2047))"
   ]
  },
  {
   "cell_type": "markdown",
   "metadata": {},
   "source": [
    "### The following code snippets show several different options for reconstruction\n",
    "\n",
    "```\n",
    "%%time\n",
    "# Remove ring artifacts\n",
    "ct.recon(\n",
    "    crop_window=(500,0,1600,2047), \n",
    "    remove_rings_at_sinograms=True,\n",
    "    )\n",
    "```\n",
    "\n",
    "```\n",
    "%%time\n",
    "# Remove ring artifacts and smooth final reconstruction\n",
    "ct.recon(\n",
    "    crop_window=(500,0,1600,2047), \n",
    "    remove_rings_at_sinograms=True,\n",
    "    smooth_recon=True,\n",
    "    )\n",
    "```"
   ]
  },
  {
   "cell_type": "code",
   "execution_count": null,
   "metadata": {},
   "outputs": [],
   "source": [
    "# to see more options for reconstruction, run this cell\n",
    "ct.recon?"
   ]
  },
  {
   "cell_type": "markdown",
   "metadata": {},
   "source": [
    "# Check output"
   ]
  },
  {
   "cell_type": "markdown",
   "metadata": {},
   "source": [
    "## The reconstruction output directory"
   ]
  },
  {
   "cell_type": "code",
   "execution_count": null,
   "metadata": {},
   "outputs": [],
   "source": [
    "print config.outdir"
   ]
  },
  {
   "cell_type": "markdown",
   "metadata": {},
   "source": [
    "## The reconstructed data"
   ]
  },
  {
   "cell_type": "code",
   "execution_count": null,
   "metadata": {},
   "outputs": [],
   "source": [
    "w = imageslider.ImageSlider('recon', ct.r.reconstructed, 400, 400)\n",
    "w.show()"
   ]
  },
  {
   "cell_type": "markdown",
   "metadata": {},
   "source": [
    "## The temporay work directory"
   ]
  },
  {
   "cell_type": "code",
   "execution_count": null,
   "metadata": {},
   "outputs": [],
   "source": [
    "print config.workdir"
   ]
  },
  {
   "cell_type": "code",
   "execution_count": null,
   "metadata": {},
   "outputs": [],
   "source": [
    "!ls -l {config.workdir}/"
   ]
  },
  {
   "cell_type": "markdown",
   "metadata": {},
   "source": [
    "** Please note that the temporary working directory will be pruned after a certain period of time. If you want to retain those files, please copy them to your home directory or the experiment IPTS folder **"
   ]
  },
  {
   "cell_type": "markdown",
   "metadata": {},
   "source": [
    "## Example of temp output - sinograms"
   ]
  },
  {
   "cell_type": "code",
   "execution_count": null,
   "metadata": {},
   "outputs": [],
   "source": [
    "w2 = imageslider.ImageSlider('sinogram', ct.r.sinograms, 400, 400)\n",
    "w2.show()"
   ]
  },
  {
   "cell_type": "code",
   "execution_count": null,
   "metadata": {},
   "outputs": [],
   "source": [
    "# if sinograms was corrected, they can be viewed here\n",
    "w3 = imageslider.ImageSlider('sinogram', ct.r.rar_sino, 400, 400)\n",
    "w3.show()"
   ]
  },
  {
   "cell_type": "code",
   "execution_count": null,
   "metadata": {},
   "outputs": [],
   "source": [
    "# Other temporary outputs can be viewed similarly. They are all stored in variable \"ct.r\". To see a list of outputs, do\n",
    "print '\\n'.join(name for name in dir(ct.r) if not name.startswith('_'))"
   ]
  },
  {
   "cell_type": "markdown",
   "metadata": {},
   "source": [
    "# Visualization outside this notebook"
   ]
  },
  {
   "cell_type": "markdown",
   "metadata": {},
   "source": [
    "ImageJ. To start, open a terminal and type\n",
    "```\n",
    "$ /HFIR/CG1DImaging/shared/Fiji.app/ImageJ-linux64\n",
    "```"
   ]
  }
 ],
 "metadata": {
  "kernelspec": {
   "display_name": "Python 2",
   "language": "python",
   "name": "python2"
  },
  "language_info": {
   "codemirror_mode": {
    "name": "ipython",
    "version": 2
   },
   "file_extension": ".py",
   "mimetype": "text/x-python",
   "name": "python",
   "nbconvert_exporter": "python",
   "pygments_lexer": "ipython2",
   "version": "2.7.12"
  }
 },
 "nbformat": 4,
 "nbformat_minor": 1
}
