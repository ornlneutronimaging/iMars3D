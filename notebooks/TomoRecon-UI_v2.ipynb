{
 "cells": [
  {
   "cell_type": "markdown",
   "metadata": {},
   "source": [
    "# Quick Interface Instructions:\n",
    "* Make a copy by clicking \"File -> Make a copy\"\n",
    "* Give the new notebook a good name\n",
    "* Before starting, make sure the circle indicating the kernel status on the top-right corner is open (meaning the jupyter kernel is ready)\n",
    "* Run the cells below sequentially\n",
    "* __Shift-Enter__ to run a cell\n",
    "* When a cell's number is '\\*', the kernel is busy calculating for you. Please wait.\n",
    "* Click a cell to edit its contents"
   ]
  },
  {
   "cell_type": "markdown",
   "metadata": {},
   "source": [
    "# Import useful tools\n",
    "__Be patient, this will take a little while.__"
   ]
  },
  {
   "cell_type": "code",
   "execution_count": null,
   "metadata": {},
   "outputs": [],
   "source": [
    "from imars3d.jnbui.tomoreconui import createContext, wizard"
   ]
  },
  {
   "cell_type": "markdown",
   "metadata": {},
   "source": [
    "# Wizard\n",
    "For the configuration steps, the following inputs work:\n",
    "* IPTS Number: 15518\n",
    "* Scan Name: derek_inj\n",
    "* CT Signature: Derek_injec\n",
    "* DF/OB Files: all files under df/ob directory\n",
    "\n",
    "When you reach the step with the tabs, you __must__ zoom into your desired Region of Interest. The Image Slider's ROI field displays the ROI that will be used for reconstruction."
   ]
  },
  {
   "cell_type": "code",
   "execution_count": null,
   "metadata": {},
   "outputs": [],
   "source": [
    "context = createContext()\n",
    "wizard(context)"
   ]
  },
  {
   "cell_type": "markdown",
   "metadata": {},
   "source": [
    "Run this cell to see the different options for the wizard function."
   ]
  },
  {
   "cell_type": "code",
   "execution_count": null,
   "metadata": {},
   "outputs": [],
   "source": [
    "help(wizard)"
   ]
  },
  {
   "cell_type": "markdown",
   "metadata": {},
   "source": [
    "# Examining Intermediate Output\n",
    "You can examine any output of the wizard (such as sinograms) by replacing \"sinograms\" in the final cell with any of the options listed by running the next cell."
   ]
  },
  {
   "cell_type": "code",
   "execution_count": null,
   "metadata": {},
   "outputs": [],
   "source": [
    "dir(context.ct.r)"
   ]
  },
  {
   "cell_type": "code",
   "execution_count": null,
   "metadata": {},
   "outputs": [],
   "source": [
    "from ipywe import imageslider\n",
    "is1 = imageslider.ImageSlider(context.ct.r.sinograms, 300, 300)\n",
    "is1"
   ]
  },
  {
   "cell_type": "code",
   "execution_count": null,
   "metadata": {},
   "outputs": [],
   "source": []
  }
 ],
 "metadata": {
  "kernelspec": {
   "display_name": "Python 2",
   "language": "python",
   "name": "python2"
  },
  "language_info": {
   "codemirror_mode": {
    "name": "ipython",
    "version": 2
   },
   "file_extension": ".py",
   "mimetype": "text/x-python",
   "name": "python",
   "nbconvert_exporter": "python",
   "pygments_lexer": "ipython2",
   "version": "2.7.12"
  }
 },
 "nbformat": 4,
 "nbformat_minor": 2
}
