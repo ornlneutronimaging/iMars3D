{
 "cells": [
  {
   "cell_type": "code",
   "execution_count": 1,
   "metadata": {
    "collapsed": false
   },
   "outputs": [],
   "source": [
    "import tomopy"
   ]
  },
  {
   "cell_type": "code",
   "execution_count": 13,
   "metadata": {
    "collapsed": true
   },
   "outputs": [],
   "source": [
    "import pyfits\n",
    "import numpy as np\n",
    "import os"
   ]
  },
  {
   "cell_type": "code",
   "execution_count": 3,
   "metadata": {
    "collapsed": true
   },
   "outputs": [],
   "source": [
    "%gui qt"
   ]
  },
  {
   "cell_type": "code",
   "execution_count": 36,
   "metadata": {
    "collapsed": false
   },
   "outputs": [],
   "source": [
    "from IPython.html import widgets\n",
    "from IPython.display import display"
   ]
  },
  {
   "cell_type": "code",
   "execution_count": 145,
   "metadata": {
    "collapsed": true
   },
   "outputs": [],
   "source": [
    "from PyQt4 import QtCore, QtGui\n",
    "\n",
    "def gui_fname(dir=None):\n",
    "    \"\"\"Select a file via a dialog and returns the file name.\n",
    "    \"\"\"\n",
    "    if dir is None: dir ='./'\n",
    "    dir_name = QtGui.QFileDialog.getExistingDirectory(None, \"Select Folder ...\",\n",
    "                                                  dir,\n",
    "                                                  QtGui.QFileDialog.ShowDirsOnly)\n",
    "    return dir_name"
   ]
  },
  {
   "cell_type": "code",
   "execution_count": 146,
   "metadata": {
    "collapsed": true
   },
   "outputs": [],
   "source": [
    "# load the OB"
   ]
  },
  {
   "cell_type": "code",
   "execution_count": 147,
   "metadata": {
    "collapsed": true
   },
   "outputs": [],
   "source": [
    "%gui qt\n",
    "ob_folder = str(gui_fname())\n",
    "%matplotlib inline"
   ]
  },
  {
   "cell_type": "code",
   "execution_count": 148,
   "metadata": {
    "collapsed": true
   },
   "outputs": [],
   "source": [
    "import glob"
   ]
  },
  {
   "cell_type": "code",
   "execution_count": 149,
   "metadata": {
    "collapsed": false
   },
   "outputs": [
    {
     "name": "stdout",
     "output_type": "stream",
     "text": [
      "/Users/j35/git/notebooks/myIPythonNotebookTutorial/tomopy/data/OB\n"
     ]
    }
   ],
   "source": [
    "print ob_folder"
   ]
  },
  {
   "cell_type": "code",
   "execution_count": 150,
   "metadata": {
    "collapsed": true
   },
   "outputs": [],
   "source": [
    "from pprint import pprint"
   ]
  },
  {
   "cell_type": "code",
   "execution_count": 151,
   "metadata": {
    "collapsed": false
   },
   "outputs": [
    {
     "name": "stdout",
     "output_type": "stream",
     "text": [
      "['/Users/j35/git/notebooks/myIPythonNotebookTutorial/tomopy/data/OB/20120618_OB_0180_0_000_0014.fits',\n",
      " '/Users/j35/git/notebooks/myIPythonNotebookTutorial/tomopy/data/OB/20120618_OB_0180_0_000_0015.fits',\n",
      " '/Users/j35/git/notebooks/myIPythonNotebookTutorial/tomopy/data/OB/20120618_OB_0180_0_000_0016.fits',\n",
      " '/Users/j35/git/notebooks/myIPythonNotebookTutorial/tomopy/data/OB/20120618_OB_0180_0_000_0017.fits',\n",
      " '/Users/j35/git/notebooks/myIPythonNotebookTutorial/tomopy/data/OB/20120618_OB_0180_0_000_0018.fits',\n",
      " '/Users/j35/git/notebooks/myIPythonNotebookTutorial/tomopy/data/OB/20120618_OB_0180_0_000_0019.fits',\n",
      " '/Users/j35/git/notebooks/myIPythonNotebookTutorial/tomopy/data/OB/20120618_OB_0180_0_000_0020.fits',\n",
      " '/Users/j35/git/notebooks/myIPythonNotebookTutorial/tomopy/data/OB/20120618_OB_0180_0_000_0052.fits',\n",
      " '/Users/j35/git/notebooks/myIPythonNotebookTutorial/tomopy/data/OB/20120618_OB_0180_0_000_0053.fits',\n",
      " '/Users/j35/git/notebooks/myIPythonNotebookTutorial/tomopy/data/OB/20120618_OB_0180_0_000_0054.fits',\n",
      " '/Users/j35/git/notebooks/myIPythonNotebookTutorial/tomopy/data/OB/20120618_OB_0180_0_000_0055.fits',\n",
      " '/Users/j35/git/notebooks/myIPythonNotebookTutorial/tomopy/data/OB/20120618_OB_0180_0_000_0056.fits',\n",
      " '/Users/j35/git/notebooks/myIPythonNotebookTutorial/tomopy/data/OB/20120618_OB_0180_0_000_0057.fits',\n",
      " '/Users/j35/git/notebooks/myIPythonNotebookTutorial/tomopy/data/OB/20120618_OB_0180_0_000_0058.fits',\n",
      " '/Users/j35/git/notebooks/myIPythonNotebookTutorial/tomopy/data/OB/20120618_OB_0180_0_000_0059.fits',\n",
      " '/Users/j35/git/notebooks/myIPythonNotebookTutorial/tomopy/data/OB/20120618_OB_0180_0_000_0060.fits',\n",
      " '/Users/j35/git/notebooks/myIPythonNotebookTutorial/tomopy/data/OB/20120618_OB_0180_0_000_0061.fits']\n"
     ]
    }
   ],
   "source": [
    "pprint(glob.glob(ob_folder + '/*'))\n",
    "list_ob_files = glob.glob(ob_folder + '/*')"
   ]
  },
  {
   "cell_type": "code",
   "execution_count": 152,
   "metadata": {
    "collapsed": false
   },
   "outputs": [
    {
     "name": "stdout",
     "output_type": "stream",
     "text": [
      "17\n"
     ]
    }
   ],
   "source": [
    "number_of_ob = len(list_ob_files)\n",
    "print(number_of_ob)"
   ]
  },
  {
   "cell_type": "code",
   "execution_count": 153,
   "metadata": {
    "collapsed": false
   },
   "outputs": [],
   "source": [
    "ob_data = []\n",
    "for _file in list_ob_files:\n",
    "    ob_data.append(pyfits.open(_file)[0].data)\n",
    "    type(pyfits.open(_file))\n"
   ]
  },
  {
   "cell_type": "code",
   "execution_count": 154,
   "metadata": {
    "collapsed": false
   },
   "outputs": [
    {
     "data": {
      "text/plain": [
       "numpy.ndarray"
      ]
     },
     "execution_count": 154,
     "metadata": {},
     "output_type": "execute_result"
    }
   ],
   "source": [
    "type(ob_data[0])"
   ]
  },
  {
   "cell_type": "code",
   "execution_count": 155,
   "metadata": {
    "collapsed": false
   },
   "outputs": [
    {
     "data": {
      "text/plain": [
       "array([[ 4508.,  4655.,  5167., ...,  6555.,  6511.,  6439.],\n",
       "       [ 5175.,  5055.,  5323., ...,  6633.,  6640.,  6566.],\n",
       "       [ 5263.,  4990.,  5257., ...,  6640.,  6627.,  6593.],\n",
       "       ..., \n",
       "       [ 2371.,  2235.,  2288., ...,  2393.,  2401.,  2401.],\n",
       "       [ 2378.,  2401.,  2305., ...,  2357.,  2390.,  2435.],\n",
       "       [ 1961.,  2174.,  2272., ...,  2251.,  2265.,  2332.]], dtype=float32)"
      ]
     },
     "execution_count": 155,
     "metadata": {},
     "output_type": "execute_result"
    }
   ],
   "source": [
    "ob_data[1]"
   ]
  },
  {
   "cell_type": "code",
   "execution_count": 191,
   "metadata": {
    "collapsed": true
   },
   "outputs": [],
   "source": [
    "def getFilename(filename_template, angle):\n",
    "        path_pattern = filename_template % (angle,)\n",
    "        dir = os.path.dirname(path_pattern)\n",
    "        basename = os.path.basename(path_pattern)\n",
    "        base, ext = os.path.splitext(basename)\n",
    "        # bad code\n",
    "        path_pattern = os.path.join(dir, base.replace(\".\", \"[_.]\") + ext)\n",
    "        \n",
    "        paths = glob.glob(path_pattern)\n",
    "        if len(paths)!=1:\n",
    "            raise RuntimeError, \"template %r no good: \\npath_pattern=%r\" % (\n",
    "                filename_template, path_pattern)\n",
    "    \n",
    "        path = paths[0]\n",
    "        return path"
   ]
  },
  {
   "cell_type": "code",
   "execution_count": 204,
   "metadata": {
    "collapsed": false
   },
   "outputs": [
    {
     "data": {
      "text/plain": [
       "'/Users/j35/git/notebooks/myIPythonNotebookTutorial/tomopy/data/TurbineLongCT/20120618_TURBINECT_0180_0_000_0000.fits'"
      ]
     },
     "execution_count": 204,
     "metadata": {},
     "output_type": "execute_result"
    }
   ],
   "source": [
    "angle=0; getFilename(data_folder+\"/2012*_%.3f_*.fits\", angle)"
   ]
  },
  {
   "cell_type": "code",
   "execution_count": 212,
   "metadata": {
    "collapsed": false
   },
   "outputs": [
    {
     "name": "stdout",
     "output_type": "stream",
     "text": [
      "['/Users/j35/git/notebooks/myIPythonNotebookTutorial/tomopy/data/TurbineLongCT/20120618_TURBINECT_0180_0_000_0000.fits',\n",
      " '/Users/j35/git/notebooks/myIPythonNotebookTutorial/tomopy/data/TurbineLongCT/20120618_TURBINECT_0180_0_850_0001.fits',\n",
      " '/Users/j35/git/notebooks/myIPythonNotebookTutorial/tomopy/data/TurbineLongCT/20120618_TURBINECT_0180_1_700_0002.fits',\n",
      " '/Users/j35/git/notebooks/myIPythonNotebookTutorial/tomopy/data/TurbineLongCT/20120618_TURBINECT_0180_2_550_0003.fits',\n",
      " '/Users/j35/git/notebooks/myIPythonNotebookTutorial/tomopy/data/TurbineLongCT/20120618_TURBINECT_0180_3_400_0004.fits',\n",
      " '/Users/j35/git/notebooks/myIPythonNotebookTutorial/tomopy/data/TurbineLongCT/20120618_TURBINECT_0180_4_250_0005.fits',\n",
      " '/Users/j35/git/notebooks/myIPythonNotebookTutorial/tomopy/data/TurbineLongCT/20120618_TURBINECT_0180_5_100_0006.fits',\n",
      " '/Users/j35/git/notebooks/myIPythonNotebookTutorial/tomopy/data/TurbineLongCT/20120618_TURBINECT_0180_5_950_0007.fits',\n",
      " '/Users/j35/git/notebooks/myIPythonNotebookTutorial/tomopy/data/TurbineLongCT/20120618_TURBINECT_0180_6_800_0008.fits',\n",
      " '/Users/j35/git/notebooks/myIPythonNotebookTutorial/tomopy/data/TurbineLongCT/20120618_TURBINECT_0180_7_650_0009.fits',\n",
      " '/Users/j35/git/notebooks/myIPythonNotebookTutorial/tomopy/data/TurbineLongCT/20120618_TURBINECT_0180_8_500_0010.fits',\n",
      " '/Users/j35/git/notebooks/myIPythonNotebookTutorial/tomopy/data/TurbineLongCT/20120618_TURBINECT_0180_9_350_0011.fits',\n",
      " '/Users/j35/git/notebooks/myIPythonNotebookTutorial/tomopy/data/TurbineLongCT/20120618_TURBINECT_0180_10_200_0012.fits',\n",
      " '/Users/j35/git/notebooks/myIPythonNotebookTutorial/tomopy/data/TurbineLongCT/20120618_TURBINECT_0180_11_050_0013.fits',\n",
      " '/Users/j35/git/notebooks/myIPythonNotebookTutorial/tomopy/data/TurbineLongCT/20120618_TURBINECT_0180_11_900_0014.fits',\n",
      " '/Users/j35/git/notebooks/myIPythonNotebookTutorial/tomopy/data/TurbineLongCT/20120618_TURBINECT_0180_12_750_0015.fits',\n",
      " '/Users/j35/git/notebooks/myIPythonNotebookTutorial/tomopy/data/TurbineLongCT/20120618_TURBINECT_0180_13_600_0016.fits',\n",
      " '/Users/j35/git/notebooks/myIPythonNotebookTutorial/tomopy/data/TurbineLongCT/20120618_TURBINECT_0180_14_450_0017.fits',\n",
      " '/Users/j35/git/notebooks/myIPythonNotebookTutorial/tomopy/data/TurbineLongCT/20120618_TURBINECT_0180_15_300_0018.fits',\n",
      " '/Users/j35/git/notebooks/myIPythonNotebookTutorial/tomopy/data/TurbineLongCT/20120618_TURBINECT_0180_16_150_0019.fits',\n",
      " '/Users/j35/git/notebooks/myIPythonNotebookTutorial/tomopy/data/TurbineLongCT/20120618_TURBINECT_0180_17_000_0020.fits',\n",
      " '/Users/j35/git/notebooks/myIPythonNotebookTutorial/tomopy/data/TurbineLongCT/20120618_TURBINECT_0180_17_850_0021.fits',\n",
      " '/Users/j35/git/notebooks/myIPythonNotebookTutorial/tomopy/data/TurbineLongCT/20120618_TURBINECT_0180_18_700_0022.fits',\n",
      " '/Users/j35/git/notebooks/myIPythonNotebookTutorial/tomopy/data/TurbineLongCT/20120618_TURBINECT_0180_19_550_0023.fits',\n",
      " '/Users/j35/git/notebooks/myIPythonNotebookTutorial/tomopy/data/TurbineLongCT/20120618_TURBINECT_0180_20_400_0024.fits',\n",
      " '/Users/j35/git/notebooks/myIPythonNotebookTutorial/tomopy/data/TurbineLongCT/20120618_TURBINECT_0180_21_250_0025.fits',\n",
      " '/Users/j35/git/notebooks/myIPythonNotebookTutorial/tomopy/data/TurbineLongCT/20120618_TURBINECT_0180_22_100_0026.fits',\n",
      " '/Users/j35/git/notebooks/myIPythonNotebookTutorial/tomopy/data/TurbineLongCT/20120618_TURBINECT_0180_22_950_0027.fits',\n",
      " '/Users/j35/git/notebooks/myIPythonNotebookTutorial/tomopy/data/TurbineLongCT/20120618_TURBINECT_0180_23_800_0028.fits',\n",
      " '/Users/j35/git/notebooks/myIPythonNotebookTutorial/tomopy/data/TurbineLongCT/20120618_TURBINECT_0180_24_650_0029.fits',\n",
      " '/Users/j35/git/notebooks/myIPythonNotebookTutorial/tomopy/data/TurbineLongCT/20120618_TURBINECT_0180_25_500_0030.fits',\n",
      " '/Users/j35/git/notebooks/myIPythonNotebookTutorial/tomopy/data/TurbineLongCT/20120618_TURBINECT_0180_26_350_0031.fits',\n",
      " '/Users/j35/git/notebooks/myIPythonNotebookTutorial/tomopy/data/TurbineLongCT/20120618_TURBINECT_0180_27_200_0032.fits',\n",
      " '/Users/j35/git/notebooks/myIPythonNotebookTutorial/tomopy/data/TurbineLongCT/20120618_TURBINECT_0180_28_050_0033.fits',\n",
      " '/Users/j35/git/notebooks/myIPythonNotebookTutorial/tomopy/data/TurbineLongCT/20120618_TURBINECT_0180_28_900_0034.fits',\n",
      " '/Users/j35/git/notebooks/myIPythonNotebookTutorial/tomopy/data/TurbineLongCT/20120618_TURBINECT_0180_29_750_0035.fits',\n",
      " '/Users/j35/git/notebooks/myIPythonNotebookTutorial/tomopy/data/TurbineLongCT/20120618_TURBINECT_0180_30_600_0036.fits',\n",
      " '/Users/j35/git/notebooks/myIPythonNotebookTutorial/tomopy/data/TurbineLongCT/20120618_TURBINECT_0180_31_450_0037.fits',\n",
      " '/Users/j35/git/notebooks/myIPythonNotebookTutorial/tomopy/data/TurbineLongCT/20120618_TURBINECT_0180_32_300_0038.fits',\n",
      " '/Users/j35/git/notebooks/myIPythonNotebookTutorial/tomopy/data/TurbineLongCT/20120618_TURBINECT_0180_33_150_0039.fits',\n",
      " '/Users/j35/git/notebooks/myIPythonNotebookTutorial/tomopy/data/TurbineLongCT/20120618_TURBINECT_0180_34_000_0040.fits',\n",
      " '/Users/j35/git/notebooks/myIPythonNotebookTutorial/tomopy/data/TurbineLongCT/20120618_TURBINECT_0180_34_850_0041.fits',\n",
      " '/Users/j35/git/notebooks/myIPythonNotebookTutorial/tomopy/data/TurbineLongCT/20120618_TURBINECT_0180_35_700_0042.fits',\n",
      " '/Users/j35/git/notebooks/myIPythonNotebookTutorial/tomopy/data/TurbineLongCT/20120618_TURBINECT_0180_36_550_0043.fits',\n",
      " '/Users/j35/git/notebooks/myIPythonNotebookTutorial/tomopy/data/TurbineLongCT/20120618_TURBINECT_0180_37_400_0044.fits',\n",
      " '/Users/j35/git/notebooks/myIPythonNotebookTutorial/tomopy/data/TurbineLongCT/20120618_TURBINECT_0180_38_250_0045.fits',\n",
      " '/Users/j35/git/notebooks/myIPythonNotebookTutorial/tomopy/data/TurbineLongCT/20120618_TURBINECT_0180_39_100_0046.fits',\n",
      " '/Users/j35/git/notebooks/myIPythonNotebookTutorial/tomopy/data/TurbineLongCT/20120618_TURBINECT_0180_39_950_0047.fits',\n",
      " '/Users/j35/git/notebooks/myIPythonNotebookTutorial/tomopy/data/TurbineLongCT/20120618_TURBINECT_0180_40_800_0048.fits',\n",
      " '/Users/j35/git/notebooks/myIPythonNotebookTutorial/tomopy/data/TurbineLongCT/20120618_TURBINECT_0180_41_650_0049.fits',\n",
      " '/Users/j35/git/notebooks/myIPythonNotebookTutorial/tomopy/data/TurbineLongCT/20120618_TURBINECT_0180_42_500_0050.fits',\n",
      " '/Users/j35/git/notebooks/myIPythonNotebookTutorial/tomopy/data/TurbineLongCT/20120618_TURBINECT_0180_43_350_0051.fits',\n",
      " '/Users/j35/git/notebooks/myIPythonNotebookTutorial/tomopy/data/TurbineLongCT/20120618_TURBINECT_0180_44_200_0052.fits',\n",
      " '/Users/j35/git/notebooks/myIPythonNotebookTutorial/tomopy/data/TurbineLongCT/20120618_TURBINECT_0180_45_050_0053.fits',\n",
      " '/Users/j35/git/notebooks/myIPythonNotebookTutorial/tomopy/data/TurbineLongCT/20120618_TURBINECT_0180_45_900_0054.fits',\n",
      " '/Users/j35/git/notebooks/myIPythonNotebookTutorial/tomopy/data/TurbineLongCT/20120618_TURBINECT_0180_46_750_0055.fits',\n",
      " '/Users/j35/git/notebooks/myIPythonNotebookTutorial/tomopy/data/TurbineLongCT/20120618_TURBINECT_0180_47_600_0056.fits',\n",
      " '/Users/j35/git/notebooks/myIPythonNotebookTutorial/tomopy/data/TurbineLongCT/20120618_TURBINECT_0180_48_450_0057.fits',\n",
      " '/Users/j35/git/notebooks/myIPythonNotebookTutorial/tomopy/data/TurbineLongCT/20120618_TURBINECT_0180_49_300_0058.fits',\n",
      " '/Users/j35/git/notebooks/myIPythonNotebookTutorial/tomopy/data/TurbineLongCT/20120618_TURBINECT_0180_50_150_0059.fits',\n",
      " '/Users/j35/git/notebooks/myIPythonNotebookTutorial/tomopy/data/TurbineLongCT/20120618_TURBINECT_0180_51_000_0060.fits',\n",
      " '/Users/j35/git/notebooks/myIPythonNotebookTutorial/tomopy/data/TurbineLongCT/20120618_TURBINECT_0180_51_850_0061.fits',\n",
      " '/Users/j35/git/notebooks/myIPythonNotebookTutorial/tomopy/data/TurbineLongCT/20120618_TURBINECT_0180_52_700_0062.fits',\n",
      " '/Users/j35/git/notebooks/myIPythonNotebookTutorial/tomopy/data/TurbineLongCT/20120618_TURBINECT_0180_53_550_0063.fits',\n",
      " '/Users/j35/git/notebooks/myIPythonNotebookTutorial/tomopy/data/TurbineLongCT/20120618_TURBINECT_0180_54_400_0064.fits',\n",
      " '/Users/j35/git/notebooks/myIPythonNotebookTutorial/tomopy/data/TurbineLongCT/20120618_TURBINECT_0180_55_250_0065.fits',\n",
      " '/Users/j35/git/notebooks/myIPythonNotebookTutorial/tomopy/data/TurbineLongCT/20120618_TURBINECT_0180_56_100_0066.fits',\n",
      " '/Users/j35/git/notebooks/myIPythonNotebookTutorial/tomopy/data/TurbineLongCT/20120618_TURBINECT_0180_56_950_0067.fits',\n",
      " '/Users/j35/git/notebooks/myIPythonNotebookTutorial/tomopy/data/TurbineLongCT/20120618_TURBINECT_0180_57_800_0068.fits',\n",
      " '/Users/j35/git/notebooks/myIPythonNotebookTutorial/tomopy/data/TurbineLongCT/20120618_TURBINECT_0180_58_650_0069.fits',\n",
      " '/Users/j35/git/notebooks/myIPythonNotebookTutorial/tomopy/data/TurbineLongCT/20120619_TURBINECT_0180_59_500_0070.fits',\n",
      " '/Users/j35/git/notebooks/myIPythonNotebookTutorial/tomopy/data/TurbineLongCT/20120619_TURBINECT_0180_60_350_0071.fits',\n",
      " '/Users/j35/git/notebooks/myIPythonNotebookTutorial/tomopy/data/TurbineLongCT/20120619_TURBINECT_0180_61_200_0072.fits',\n",
      " '/Users/j35/git/notebooks/myIPythonNotebookTutorial/tomopy/data/TurbineLongCT/20120619_TURBINECT_0180_62_050_0073.fits',\n",
      " '/Users/j35/git/notebooks/myIPythonNotebookTutorial/tomopy/data/TurbineLongCT/20120619_TURBINECT_0180_62_900_0074.fits',\n",
      " '/Users/j35/git/notebooks/myIPythonNotebookTutorial/tomopy/data/TurbineLongCT/20120619_TURBINECT_0180_63_750_0075.fits',\n",
      " '/Users/j35/git/notebooks/myIPythonNotebookTutorial/tomopy/data/TurbineLongCT/20120619_TURBINECT_0180_64_600_0076.fits',\n",
      " '/Users/j35/git/notebooks/myIPythonNotebookTutorial/tomopy/data/TurbineLongCT/20120619_TURBINECT_0180_65_450_0077.fits',\n",
      " '/Users/j35/git/notebooks/myIPythonNotebookTutorial/tomopy/data/TurbineLongCT/20120619_TURBINECT_0180_66_300_0078.fits',\n",
      " '/Users/j35/git/notebooks/myIPythonNotebookTutorial/tomopy/data/TurbineLongCT/20120619_TURBINECT_0180_67_150_0079.fits',\n",
      " '/Users/j35/git/notebooks/myIPythonNotebookTutorial/tomopy/data/TurbineLongCT/20120619_TURBINECT_0180_68_000_0080.fits',\n",
      " '/Users/j35/git/notebooks/myIPythonNotebookTutorial/tomopy/data/TurbineLongCT/20120619_TURBINECT_0180_68_850_0081.fits',\n",
      " '/Users/j35/git/notebooks/myIPythonNotebookTutorial/tomopy/data/TurbineLongCT/20120619_TURBINECT_0180_69_700_0082.fits',\n",
      " '/Users/j35/git/notebooks/myIPythonNotebookTutorial/tomopy/data/TurbineLongCT/20120619_TURBINECT_0180_70_550_0083.fits',\n",
      " '/Users/j35/git/notebooks/myIPythonNotebookTutorial/tomopy/data/TurbineLongCT/20120619_TURBINECT_0180_71_400_0084.fits',\n",
      " '/Users/j35/git/notebooks/myIPythonNotebookTutorial/tomopy/data/TurbineLongCT/20120619_TURBINECT_0180_72_250_0085.fits',\n",
      " '/Users/j35/git/notebooks/myIPythonNotebookTutorial/tomopy/data/TurbineLongCT/20120619_TURBINECT_0180_73_100_0086.fits',\n",
      " '/Users/j35/git/notebooks/myIPythonNotebookTutorial/tomopy/data/TurbineLongCT/20120619_TURBINECT_0180_73_950_0087.fits',\n",
      " '/Users/j35/git/notebooks/myIPythonNotebookTutorial/tomopy/data/TurbineLongCT/20120619_TURBINECT_0180_74_800_0088.fits',\n",
      " '/Users/j35/git/notebooks/myIPythonNotebookTutorial/tomopy/data/TurbineLongCT/20120619_TURBINECT_0180_75_650_0089.fits',\n",
      " '/Users/j35/git/notebooks/myIPythonNotebookTutorial/tomopy/data/TurbineLongCT/20120619_TURBINECT_0180_76_500_0090.fits',\n",
      " '/Users/j35/git/notebooks/myIPythonNotebookTutorial/tomopy/data/TurbineLongCT/20120619_TURBINECT_0180_77_350_0091.fits',\n",
      " '/Users/j35/git/notebooks/myIPythonNotebookTutorial/tomopy/data/TurbineLongCT/20120619_TURBINECT_0180_78_200_0092.fits',\n",
      " '/Users/j35/git/notebooks/myIPythonNotebookTutorial/tomopy/data/TurbineLongCT/20120619_TURBINECT_0180_79_050_0093.fits',\n",
      " '/Users/j35/git/notebooks/myIPythonNotebookTutorial/tomopy/data/TurbineLongCT/20120619_TURBINECT_0180_79_900_0094.fits',\n",
      " '/Users/j35/git/notebooks/myIPythonNotebookTutorial/tomopy/data/TurbineLongCT/20120619_TURBINECT_0180_80_750_0095.fits',\n",
      " '/Users/j35/git/notebooks/myIPythonNotebookTutorial/tomopy/data/TurbineLongCT/20120619_TURBINECT_0180_81_600_0096.fits',\n",
      " '/Users/j35/git/notebooks/myIPythonNotebookTutorial/tomopy/data/TurbineLongCT/20120619_TURBINECT_0180_82_450_0097.fits',\n",
      " '/Users/j35/git/notebooks/myIPythonNotebookTutorial/tomopy/data/TurbineLongCT/20120619_TURBINECT_0180_83_300_0098.fits',\n",
      " '/Users/j35/git/notebooks/myIPythonNotebookTutorial/tomopy/data/TurbineLongCT/20120619_TURBINECT_0180_84_150_0099.fits',\n",
      " '/Users/j35/git/notebooks/myIPythonNotebookTutorial/tomopy/data/TurbineLongCT/20120619_TURBINECT_0180_85_000_0100.fits',\n",
      " '/Users/j35/git/notebooks/myIPythonNotebookTutorial/tomopy/data/TurbineLongCT/20120619_TURBINECT_0180_85_850_0101.fits',\n",
      " '/Users/j35/git/notebooks/myIPythonNotebookTutorial/tomopy/data/TurbineLongCT/20120619_TURBINECT_0180_86_700_0102.fits',\n",
      " '/Users/j35/git/notebooks/myIPythonNotebookTutorial/tomopy/data/TurbineLongCT/20120619_TURBINECT_0180_87_550_0103.fits',\n",
      " '/Users/j35/git/notebooks/myIPythonNotebookTutorial/tomopy/data/TurbineLongCT/20120619_TURBINECT_0180_88_400_0104.fits',\n",
      " '/Users/j35/git/notebooks/myIPythonNotebookTutorial/tomopy/data/TurbineLongCT/20120619_TURBINECT_0180_89_250_0105.fits',\n",
      " '/Users/j35/git/notebooks/myIPythonNotebookTutorial/tomopy/data/TurbineLongCT/20120619_TURBINECT_0180_90_100_0106.fits',\n",
      " '/Users/j35/git/notebooks/myIPythonNotebookTutorial/tomopy/data/TurbineLongCT/20120619_TURBINECT_0180_90_950_0107.fits',\n",
      " '/Users/j35/git/notebooks/myIPythonNotebookTutorial/tomopy/data/TurbineLongCT/20120619_TURBINECT_0180_91_800_0108.fits',\n",
      " '/Users/j35/git/notebooks/myIPythonNotebookTutorial/tomopy/data/TurbineLongCT/20120619_TURBINECT_0180_92_650_0109.fits',\n",
      " '/Users/j35/git/notebooks/myIPythonNotebookTutorial/tomopy/data/TurbineLongCT/20120619_TURBINECT_0180_93_500_0110.fits',\n",
      " '/Users/j35/git/notebooks/myIPythonNotebookTutorial/tomopy/data/TurbineLongCT/20120619_TURBINECT_0180_94_350_0111.fits',\n",
      " '/Users/j35/git/notebooks/myIPythonNotebookTutorial/tomopy/data/TurbineLongCT/20120619_TURBINECT_0180_95_200_0112.fits',\n",
      " '/Users/j35/git/notebooks/myIPythonNotebookTutorial/tomopy/data/TurbineLongCT/20120619_TURBINECT_0180_96_050_0113.fits',\n",
      " '/Users/j35/git/notebooks/myIPythonNotebookTutorial/tomopy/data/TurbineLongCT/20120619_TURBINECT_0180_96_900_0114.fits',\n",
      " '/Users/j35/git/notebooks/myIPythonNotebookTutorial/tomopy/data/TurbineLongCT/20120619_TURBINECT_0180_97_750_0115.fits',\n",
      " '/Users/j35/git/notebooks/myIPythonNotebookTutorial/tomopy/data/TurbineLongCT/20120619_TURBINECT_0180_98_600_0116.fits',\n",
      " '/Users/j35/git/notebooks/myIPythonNotebookTutorial/tomopy/data/TurbineLongCT/20120619_TURBINECT_0180_99_450_0117.fits',\n",
      " '/Users/j35/git/notebooks/myIPythonNotebookTutorial/tomopy/data/TurbineLongCT/20120619_TURBINECT_0180_100_300_0118.fits',\n",
      " '/Users/j35/git/notebooks/myIPythonNotebookTutorial/tomopy/data/TurbineLongCT/20120619_TURBINECT_0180_101_150_0119.fits',\n",
      " '/Users/j35/git/notebooks/myIPythonNotebookTutorial/tomopy/data/TurbineLongCT/20120619_TURBINECT_0180_102_000_0120.fits',\n",
      " '/Users/j35/git/notebooks/myIPythonNotebookTutorial/tomopy/data/TurbineLongCT/20120619_TURBINECT_0180_102_850_0121.fits',\n",
      " '/Users/j35/git/notebooks/myIPythonNotebookTutorial/tomopy/data/TurbineLongCT/20120619_TURBINECT_0180_103_700_0122.fits',\n",
      " '/Users/j35/git/notebooks/myIPythonNotebookTutorial/tomopy/data/TurbineLongCT/20120619_TURBINECT_0180_104_550_0123.fits',\n",
      " '/Users/j35/git/notebooks/myIPythonNotebookTutorial/tomopy/data/TurbineLongCT/20120619_TURBINECT_0180_105_400_0124.fits',\n",
      " '/Users/j35/git/notebooks/myIPythonNotebookTutorial/tomopy/data/TurbineLongCT/20120619_TURBINECT_0180_106_250_0125.fits',\n",
      " '/Users/j35/git/notebooks/myIPythonNotebookTutorial/tomopy/data/TurbineLongCT/20120619_TURBINECT_0180_107_100_0126.fits',\n",
      " '/Users/j35/git/notebooks/myIPythonNotebookTutorial/tomopy/data/TurbineLongCT/20120619_TURBINECT_0180_107_950_0127.fits',\n",
      " '/Users/j35/git/notebooks/myIPythonNotebookTutorial/tomopy/data/TurbineLongCT/20120619_TURBINECT_0180_108_800_0128.fits',\n",
      " '/Users/j35/git/notebooks/myIPythonNotebookTutorial/tomopy/data/TurbineLongCT/20120619_TURBINECT_0180_109_650_0129.fits',\n",
      " '/Users/j35/git/notebooks/myIPythonNotebookTutorial/tomopy/data/TurbineLongCT/20120619_TURBINECT_0180_110_500_0130.fits',\n",
      " '/Users/j35/git/notebooks/myIPythonNotebookTutorial/tomopy/data/TurbineLongCT/20120619_TURBINECT_0180_111_350_0131.fits',\n",
      " '/Users/j35/git/notebooks/myIPythonNotebookTutorial/tomopy/data/TurbineLongCT/20120619_TURBINECT_0180_112_200_0132.fits',\n",
      " '/Users/j35/git/notebooks/myIPythonNotebookTutorial/tomopy/data/TurbineLongCT/20120619_TURBINECT_0180_113_050_0133.fits',\n",
      " '/Users/j35/git/notebooks/myIPythonNotebookTutorial/tomopy/data/TurbineLongCT/20120619_TURBINECT_0180_113_900_0134.fits',\n",
      " '/Users/j35/git/notebooks/myIPythonNotebookTutorial/tomopy/data/TurbineLongCT/20120619_TURBINECT_0180_114_750_0135.fits',\n",
      " '/Users/j35/git/notebooks/myIPythonNotebookTutorial/tomopy/data/TurbineLongCT/20120619_TURBINECT_0180_115_600_0136.fits',\n",
      " '/Users/j35/git/notebooks/myIPythonNotebookTutorial/tomopy/data/TurbineLongCT/20120619_TURBINECT_0180_116_450_0137.fits',\n",
      " '/Users/j35/git/notebooks/myIPythonNotebookTutorial/tomopy/data/TurbineLongCT/20120619_TURBINECT_0180_117_300_0138.fits',\n",
      " '/Users/j35/git/notebooks/myIPythonNotebookTutorial/tomopy/data/TurbineLongCT/20120619_TURBINECT_0180_118_150_0139.fits',\n",
      " '/Users/j35/git/notebooks/myIPythonNotebookTutorial/tomopy/data/TurbineLongCT/20120619_TURBINECT_0180_119_000_0140.fits',\n",
      " '/Users/j35/git/notebooks/myIPythonNotebookTutorial/tomopy/data/TurbineLongCT/20120619_TURBINECT_0180_119_850_0141.fits',\n",
      " '/Users/j35/git/notebooks/myIPythonNotebookTutorial/tomopy/data/TurbineLongCT/20120619_TURBINECT_0180_120_700_0142.fits',\n",
      " '/Users/j35/git/notebooks/myIPythonNotebookTutorial/tomopy/data/TurbineLongCT/20120619_TURBINECT_0180_121_550_0143.fits',\n",
      " '/Users/j35/git/notebooks/myIPythonNotebookTutorial/tomopy/data/TurbineLongCT/20120619_TURBINECT_0180_122_400_0144.fits',\n",
      " '/Users/j35/git/notebooks/myIPythonNotebookTutorial/tomopy/data/TurbineLongCT/20120619_TURBINECT_0180_123_250_0145.fits',\n",
      " '/Users/j35/git/notebooks/myIPythonNotebookTutorial/tomopy/data/TurbineLongCT/20120619_TURBINECT_0180_124_100_0146.fits',\n",
      " '/Users/j35/git/notebooks/myIPythonNotebookTutorial/tomopy/data/TurbineLongCT/20120619_TURBINECT_0180_124_950_0147.fits',\n",
      " '/Users/j35/git/notebooks/myIPythonNotebookTutorial/tomopy/data/TurbineLongCT/20120619_TURBINECT_0180_125_800_0148.fits',\n",
      " '/Users/j35/git/notebooks/myIPythonNotebookTutorial/tomopy/data/TurbineLongCT/20120619_TURBINECT_0180_126_650_0149.fits',\n",
      " '/Users/j35/git/notebooks/myIPythonNotebookTutorial/tomopy/data/TurbineLongCT/20120619_TURBINECT_0180_127_500_0150.fits',\n",
      " '/Users/j35/git/notebooks/myIPythonNotebookTutorial/tomopy/data/TurbineLongCT/20120619_TURBINECT_0180_128_350_0151.fits',\n",
      " '/Users/j35/git/notebooks/myIPythonNotebookTutorial/tomopy/data/TurbineLongCT/20120619_TURBINECT_0180_129_200_0152.fits',\n",
      " '/Users/j35/git/notebooks/myIPythonNotebookTutorial/tomopy/data/TurbineLongCT/20120619_TURBINECT_0180_130_050_0153.fits',\n",
      " '/Users/j35/git/notebooks/myIPythonNotebookTutorial/tomopy/data/TurbineLongCT/20120619_TURBINECT_0180_130_900_0154.fits',\n",
      " '/Users/j35/git/notebooks/myIPythonNotebookTutorial/tomopy/data/TurbineLongCT/20120619_TURBINECT_0180_131_750_0155.fits',\n",
      " '/Users/j35/git/notebooks/myIPythonNotebookTutorial/tomopy/data/TurbineLongCT/20120619_TURBINECT_0180_132_600_0156.fits',\n",
      " '/Users/j35/git/notebooks/myIPythonNotebookTutorial/tomopy/data/TurbineLongCT/20120619_TURBINECT_0180_133_450_0157.fits',\n",
      " '/Users/j35/git/notebooks/myIPythonNotebookTutorial/tomopy/data/TurbineLongCT/20120619_TURBINECT_0180_134_300_0158.fits',\n",
      " '/Users/j35/git/notebooks/myIPythonNotebookTutorial/tomopy/data/TurbineLongCT/20120619_TURBINECT_0180_135_150_0159.fits',\n",
      " '/Users/j35/git/notebooks/myIPythonNotebookTutorial/tomopy/data/TurbineLongCT/20120619_TURBINECT_0180_136_000_0160.fits',\n",
      " '/Users/j35/git/notebooks/myIPythonNotebookTutorial/tomopy/data/TurbineLongCT/20120619_TURBINECT_0180_136_850_0161.fits',\n",
      " '/Users/j35/git/notebooks/myIPythonNotebookTutorial/tomopy/data/TurbineLongCT/20120619_TURBINECT_0180_137_700_0162.fits',\n",
      " '/Users/j35/git/notebooks/myIPythonNotebookTutorial/tomopy/data/TurbineLongCT/20120619_TURBINECT_0180_138_550_0163.fits',\n",
      " '/Users/j35/git/notebooks/myIPythonNotebookTutorial/tomopy/data/TurbineLongCT/20120619_TURBINECT_0180_139_400_0164.fits',\n",
      " '/Users/j35/git/notebooks/myIPythonNotebookTutorial/tomopy/data/TurbineLongCT/20120619_TURBINECT_0180_140_250_0165.fits',\n",
      " '/Users/j35/git/notebooks/myIPythonNotebookTutorial/tomopy/data/TurbineLongCT/20120619_TURBINECT_0180_141_100_0166.fits',\n",
      " '/Users/j35/git/notebooks/myIPythonNotebookTutorial/tomopy/data/TurbineLongCT/20120619_TURBINECT_0180_141_950_0167.fits',\n",
      " '/Users/j35/git/notebooks/myIPythonNotebookTutorial/tomopy/data/TurbineLongCT/20120619_TURBINECT_0180_142_800_0168.fits',\n",
      " '/Users/j35/git/notebooks/myIPythonNotebookTutorial/tomopy/data/TurbineLongCT/20120619_TURBINECT_0180_143_650_0169.fits',\n",
      " '/Users/j35/git/notebooks/myIPythonNotebookTutorial/tomopy/data/TurbineLongCT/20120619_TURBINECT_0180_144_500_0170.fits',\n",
      " '/Users/j35/git/notebooks/myIPythonNotebookTutorial/tomopy/data/TurbineLongCT/20120619_TURBINECT_0180_145_350_0171.fits',\n",
      " '/Users/j35/git/notebooks/myIPythonNotebookTutorial/tomopy/data/TurbineLongCT/20120619_TURBINECT_0180_146_200_0172.fits',\n",
      " '/Users/j35/git/notebooks/myIPythonNotebookTutorial/tomopy/data/TurbineLongCT/20120619_TURBINECT_0180_147_050_0173.fits',\n",
      " '/Users/j35/git/notebooks/myIPythonNotebookTutorial/tomopy/data/TurbineLongCT/20120619_TURBINECT_0180_147_900_0174.fits',\n",
      " '/Users/j35/git/notebooks/myIPythonNotebookTutorial/tomopy/data/TurbineLongCT/20120619_TURBINECT_0180_148_750_0175.fits',\n",
      " '/Users/j35/git/notebooks/myIPythonNotebookTutorial/tomopy/data/TurbineLongCT/20120619_TURBINECT_0180_149_600_0176.fits',\n",
      " '/Users/j35/git/notebooks/myIPythonNotebookTutorial/tomopy/data/TurbineLongCT/20120619_TURBINECT_0180_150_450_0177.fits',\n",
      " '/Users/j35/git/notebooks/myIPythonNotebookTutorial/tomopy/data/TurbineLongCT/20120619_TURBINECT_0180_151_300_0178.fits',\n",
      " '/Users/j35/git/notebooks/myIPythonNotebookTutorial/tomopy/data/TurbineLongCT/20120619_TURBINECT_0180_152_150_0179.fits',\n",
      " '/Users/j35/git/notebooks/myIPythonNotebookTutorial/tomopy/data/TurbineLongCT/20120619_TURBINECT_0180_153_000_0180.fits',\n",
      " '/Users/j35/git/notebooks/myIPythonNotebookTutorial/tomopy/data/TurbineLongCT/20120619_TURBINECT_0180_153_850_0181.fits',\n",
      " '/Users/j35/git/notebooks/myIPythonNotebookTutorial/tomopy/data/TurbineLongCT/20120619_TURBINECT_0180_154_700_0182.fits',\n",
      " '/Users/j35/git/notebooks/myIPythonNotebookTutorial/tomopy/data/TurbineLongCT/20120619_TURBINECT_0180_155_550_0183.fits',\n",
      " '/Users/j35/git/notebooks/myIPythonNotebookTutorial/tomopy/data/TurbineLongCT/20120619_TURBINECT_0180_156_400_0184.fits',\n",
      " '/Users/j35/git/notebooks/myIPythonNotebookTutorial/tomopy/data/TurbineLongCT/20120619_TURBINECT_0180_157_250_0185.fits',\n",
      " '/Users/j35/git/notebooks/myIPythonNotebookTutorial/tomopy/data/TurbineLongCT/20120619_TURBINECT_0180_158_100_0186.fits',\n",
      " '/Users/j35/git/notebooks/myIPythonNotebookTutorial/tomopy/data/TurbineLongCT/20120619_TURBINECT_0180_158_950_0187.fits',\n",
      " '/Users/j35/git/notebooks/myIPythonNotebookTutorial/tomopy/data/TurbineLongCT/20120619_TURBINECT_0180_159_800_0188.fits',\n",
      " '/Users/j35/git/notebooks/myIPythonNotebookTutorial/tomopy/data/TurbineLongCT/20120619_TURBINECT_0180_160_650_0189.fits',\n",
      " '/Users/j35/git/notebooks/myIPythonNotebookTutorial/tomopy/data/TurbineLongCT/20120619_TURBINECT_0180_161_500_0190.fits',\n",
      " '/Users/j35/git/notebooks/myIPythonNotebookTutorial/tomopy/data/TurbineLongCT/20120619_TURBINECT_0180_162_350_0191.fits',\n",
      " '/Users/j35/git/notebooks/myIPythonNotebookTutorial/tomopy/data/TurbineLongCT/20120619_TURBINECT_0180_163_200_0192.fits',\n",
      " '/Users/j35/git/notebooks/myIPythonNotebookTutorial/tomopy/data/TurbineLongCT/20120619_TURBINECT_0180_164_050_0193.fits',\n",
      " '/Users/j35/git/notebooks/myIPythonNotebookTutorial/tomopy/data/TurbineLongCT/20120619_TURBINECT_0180_164_900_0194.fits',\n",
      " '/Users/j35/git/notebooks/myIPythonNotebookTutorial/tomopy/data/TurbineLongCT/20120619_TURBINECT_0180_165_750_0195.fits',\n",
      " '/Users/j35/git/notebooks/myIPythonNotebookTutorial/tomopy/data/TurbineLongCT/20120619_TURBINECT_0180_166_600_0196.fits',\n",
      " '/Users/j35/git/notebooks/myIPythonNotebookTutorial/tomopy/data/TurbineLongCT/20120619_TURBINECT_0180_167_450_0197.fits',\n",
      " '/Users/j35/git/notebooks/myIPythonNotebookTutorial/tomopy/data/TurbineLongCT/20120619_TURBINECT_0180_168_300_0198.fits',\n",
      " '/Users/j35/git/notebooks/myIPythonNotebookTutorial/tomopy/data/TurbineLongCT/20120619_TURBINECT_0180_169_150_0199.fits',\n",
      " '/Users/j35/git/notebooks/myIPythonNotebookTutorial/tomopy/data/TurbineLongCT/20120619_TURBINECT_0180_170_000_0200.fits',\n",
      " '/Users/j35/git/notebooks/myIPythonNotebookTutorial/tomopy/data/TurbineLongCT/20120619_TURBINECT_0180_170_850_0201.fits',\n",
      " '/Users/j35/git/notebooks/myIPythonNotebookTutorial/tomopy/data/TurbineLongCT/20120619_TURBINECT_0180_171_700_0202.fits',\n",
      " '/Users/j35/git/notebooks/myIPythonNotebookTutorial/tomopy/data/TurbineLongCT/20120619_TURBINECT_0180_172_550_0203.fits',\n",
      " '/Users/j35/git/notebooks/myIPythonNotebookTutorial/tomopy/data/TurbineLongCT/20120619_TURBINECT_0180_173_400_0204.fits',\n",
      " '/Users/j35/git/notebooks/myIPythonNotebookTutorial/tomopy/data/TurbineLongCT/20120619_TURBINECT_0180_174_250_0205.fits',\n",
      " '/Users/j35/git/notebooks/myIPythonNotebookTutorial/tomopy/data/TurbineLongCT/20120619_TURBINECT_0180_175_100_0206.fits',\n",
      " '/Users/j35/git/notebooks/myIPythonNotebookTutorial/tomopy/data/TurbineLongCT/20120619_TURBINECT_0180_175_950_0207.fits',\n",
      " '/Users/j35/git/notebooks/myIPythonNotebookTutorial/tomopy/data/TurbineLongCT/20120619_TURBINECT_0180_176_800_0208.fits',\n",
      " '/Users/j35/git/notebooks/myIPythonNotebookTutorial/tomopy/data/TurbineLongCT/20120619_TURBINECT_0180_177_650_0209.fits',\n",
      " '/Users/j35/git/notebooks/myIPythonNotebookTutorial/tomopy/data/TurbineLongCT/20120619_TURBINECT_0180_178_500_0210.fits',\n",
      " '/Users/j35/git/notebooks/myIPythonNotebookTutorial/tomopy/data/TurbineLongCT/20120619_TURBINECT_0180_179_350_0211.fits',\n",
      " '/Users/j35/git/notebooks/myIPythonNotebookTutorial/tomopy/data/TurbineLongCT/20120619_TURBINECT_0180_180_200_0212.fits',\n",
      " '/Users/j35/git/notebooks/myIPythonNotebookTutorial/tomopy/data/TurbineLongCT/20120619_TURBINECT_0180_181_050_0213.fits',\n",
      " '/Users/j35/git/notebooks/myIPythonNotebookTutorial/tomopy/data/TurbineLongCT/20120619_TURBINECT_0180_181_900_0214.fits']\n"
     ]
    }
   ],
   "source": [
    "angles=np.arange(0.0, 181.9+step, step);\n",
    "list_data_files = map(lambda x: getFilename(data_folder+\"/2012*_%.3f_*.fits\", x), angles);\n",
    "pprint(list_data_files)\n",
    "               "
   ]
  },
  {
   "cell_type": "code",
   "execution_count": 156,
   "metadata": {
    "collapsed": true
   },
   "outputs": [],
   "source": [
    "# load the DF"
   ]
  },
  {
   "cell_type": "code",
   "execution_count": 157,
   "metadata": {
    "collapsed": true
   },
   "outputs": [],
   "source": [
    "%gui qt\n",
    "df_folder = str(gui_fname())\n",
    "%matplotlib inline"
   ]
  },
  {
   "cell_type": "code",
   "execution_count": 158,
   "metadata": {
    "collapsed": true
   },
   "outputs": [],
   "source": [
    "list_df_files = glob.glob(df_folder + '/*')"
   ]
  },
  {
   "cell_type": "code",
   "execution_count": 159,
   "metadata": {
    "collapsed": true
   },
   "outputs": [],
   "source": [
    "df_data = []\n",
    "for _file in list_df_files:\n",
    "    df_data.append(pyfits.open(_file)[0].data)"
   ]
  },
  {
   "cell_type": "code",
   "execution_count": 160,
   "metadata": {
    "collapsed": true
   },
   "outputs": [],
   "source": [
    "# load the data"
   ]
  },
  {
   "cell_type": "code",
   "execution_count": 161,
   "metadata": {
    "collapsed": true
   },
   "outputs": [],
   "source": [
    "%gui qt\n",
    "data_folder = str(gui_fname())\n",
    "%matplotlib inline"
   ]
  },
  {
   "cell_type": "code",
   "execution_count": 186,
   "metadata": {
    "collapsed": false
   },
   "outputs": [],
   "source": [
    "#list_data_files = glob.glob(data_folder + '/*')"
   ]
  },
  {
   "cell_type": "code",
   "execution_count": 188,
   "metadata": {
    "collapsed": false
   },
   "outputs": [
    {
     "name": "stdout",
     "output_type": "stream",
     "text": [
      "['/Users/j35/git/notebooks/myIPythonNotebookTutorial/tomopy/data/TurbineLongCT/20120618_TURBINECT_0180_0_000_0000.fits',\n",
      " '/Users/j35/git/notebooks/myIPythonNotebookTutorial/tomopy/data/TurbineLongCT/20120618_TURBINECT_0180_0_850_0001.fits',\n",
      " '/Users/j35/git/notebooks/myIPythonNotebookTutorial/tomopy/data/TurbineLongCT/20120618_TURBINECT_0180_10_200_0012.fits',\n",
      " '/Users/j35/git/notebooks/myIPythonNotebookTutorial/tomopy/data/TurbineLongCT/20120618_TURBINECT_0180_11_050_0013.fits',\n",
      " '/Users/j35/git/notebooks/myIPythonNotebookTutorial/tomopy/data/TurbineLongCT/20120618_TURBINECT_0180_11_900_0014.fits',\n",
      " '/Users/j35/git/notebooks/myIPythonNotebookTutorial/tomopy/data/TurbineLongCT/20120618_TURBINECT_0180_12_750_0015.fits',\n",
      " '/Users/j35/git/notebooks/myIPythonNotebookTutorial/tomopy/data/TurbineLongCT/20120618_TURBINECT_0180_13_600_0016.fits',\n",
      " '/Users/j35/git/notebooks/myIPythonNotebookTutorial/tomopy/data/TurbineLongCT/20120618_TURBINECT_0180_14_450_0017.fits',\n",
      " '/Users/j35/git/notebooks/myIPythonNotebookTutorial/tomopy/data/TurbineLongCT/20120618_TURBINECT_0180_15_300_0018.fits',\n",
      " '/Users/j35/git/notebooks/myIPythonNotebookTutorial/tomopy/data/TurbineLongCT/20120618_TURBINECT_0180_16_150_0019.fits',\n",
      " '/Users/j35/git/notebooks/myIPythonNotebookTutorial/tomopy/data/TurbineLongCT/20120618_TURBINECT_0180_17_000_0020.fits',\n",
      " '/Users/j35/git/notebooks/myIPythonNotebookTutorial/tomopy/data/TurbineLongCT/20120618_TURBINECT_0180_17_850_0021.fits',\n",
      " '/Users/j35/git/notebooks/myIPythonNotebookTutorial/tomopy/data/TurbineLongCT/20120618_TURBINECT_0180_18_700_0022.fits',\n",
      " '/Users/j35/git/notebooks/myIPythonNotebookTutorial/tomopy/data/TurbineLongCT/20120618_TURBINECT_0180_19_550_0023.fits',\n",
      " '/Users/j35/git/notebooks/myIPythonNotebookTutorial/tomopy/data/TurbineLongCT/20120618_TURBINECT_0180_1_700_0002.fits',\n",
      " '/Users/j35/git/notebooks/myIPythonNotebookTutorial/tomopy/data/TurbineLongCT/20120618_TURBINECT_0180_20_400_0024.fits',\n",
      " '/Users/j35/git/notebooks/myIPythonNotebookTutorial/tomopy/data/TurbineLongCT/20120618_TURBINECT_0180_21_250_0025.fits',\n",
      " '/Users/j35/git/notebooks/myIPythonNotebookTutorial/tomopy/data/TurbineLongCT/20120618_TURBINECT_0180_22_100_0026.fits',\n",
      " '/Users/j35/git/notebooks/myIPythonNotebookTutorial/tomopy/data/TurbineLongCT/20120618_TURBINECT_0180_22_950_0027.fits',\n",
      " '/Users/j35/git/notebooks/myIPythonNotebookTutorial/tomopy/data/TurbineLongCT/20120618_TURBINECT_0180_23_800_0028.fits',\n",
      " '/Users/j35/git/notebooks/myIPythonNotebookTutorial/tomopy/data/TurbineLongCT/20120618_TURBINECT_0180_24_650_0029.fits',\n",
      " '/Users/j35/git/notebooks/myIPythonNotebookTutorial/tomopy/data/TurbineLongCT/20120618_TURBINECT_0180_25_500_0030.fits',\n",
      " '/Users/j35/git/notebooks/myIPythonNotebookTutorial/tomopy/data/TurbineLongCT/20120618_TURBINECT_0180_26_350_0031.fits',\n",
      " '/Users/j35/git/notebooks/myIPythonNotebookTutorial/tomopy/data/TurbineLongCT/20120618_TURBINECT_0180_27_200_0032.fits',\n",
      " '/Users/j35/git/notebooks/myIPythonNotebookTutorial/tomopy/data/TurbineLongCT/20120618_TURBINECT_0180_28_050_0033.fits',\n",
      " '/Users/j35/git/notebooks/myIPythonNotebookTutorial/tomopy/data/TurbineLongCT/20120618_TURBINECT_0180_28_900_0034.fits',\n",
      " '/Users/j35/git/notebooks/myIPythonNotebookTutorial/tomopy/data/TurbineLongCT/20120618_TURBINECT_0180_29_750_0035.fits',\n",
      " '/Users/j35/git/notebooks/myIPythonNotebookTutorial/tomopy/data/TurbineLongCT/20120618_TURBINECT_0180_2_550_0003.fits',\n",
      " '/Users/j35/git/notebooks/myIPythonNotebookTutorial/tomopy/data/TurbineLongCT/20120618_TURBINECT_0180_30_600_0036.fits',\n",
      " '/Users/j35/git/notebooks/myIPythonNotebookTutorial/tomopy/data/TurbineLongCT/20120618_TURBINECT_0180_31_450_0037.fits',\n",
      " '/Users/j35/git/notebooks/myIPythonNotebookTutorial/tomopy/data/TurbineLongCT/20120618_TURBINECT_0180_32_300_0038.fits',\n",
      " '/Users/j35/git/notebooks/myIPythonNotebookTutorial/tomopy/data/TurbineLongCT/20120618_TURBINECT_0180_33_150_0039.fits',\n",
      " '/Users/j35/git/notebooks/myIPythonNotebookTutorial/tomopy/data/TurbineLongCT/20120618_TURBINECT_0180_34_000_0040.fits',\n",
      " '/Users/j35/git/notebooks/myIPythonNotebookTutorial/tomopy/data/TurbineLongCT/20120618_TURBINECT_0180_34_850_0041.fits',\n",
      " '/Users/j35/git/notebooks/myIPythonNotebookTutorial/tomopy/data/TurbineLongCT/20120618_TURBINECT_0180_35_700_0042.fits',\n",
      " '/Users/j35/git/notebooks/myIPythonNotebookTutorial/tomopy/data/TurbineLongCT/20120618_TURBINECT_0180_36_550_0043.fits',\n",
      " '/Users/j35/git/notebooks/myIPythonNotebookTutorial/tomopy/data/TurbineLongCT/20120618_TURBINECT_0180_37_400_0044.fits',\n",
      " '/Users/j35/git/notebooks/myIPythonNotebookTutorial/tomopy/data/TurbineLongCT/20120618_TURBINECT_0180_38_250_0045.fits',\n",
      " '/Users/j35/git/notebooks/myIPythonNotebookTutorial/tomopy/data/TurbineLongCT/20120618_TURBINECT_0180_39_100_0046.fits',\n",
      " '/Users/j35/git/notebooks/myIPythonNotebookTutorial/tomopy/data/TurbineLongCT/20120618_TURBINECT_0180_39_950_0047.fits',\n",
      " '/Users/j35/git/notebooks/myIPythonNotebookTutorial/tomopy/data/TurbineLongCT/20120618_TURBINECT_0180_3_400_0004.fits',\n",
      " '/Users/j35/git/notebooks/myIPythonNotebookTutorial/tomopy/data/TurbineLongCT/20120618_TURBINECT_0180_40_800_0048.fits',\n",
      " '/Users/j35/git/notebooks/myIPythonNotebookTutorial/tomopy/data/TurbineLongCT/20120618_TURBINECT_0180_41_650_0049.fits',\n",
      " '/Users/j35/git/notebooks/myIPythonNotebookTutorial/tomopy/data/TurbineLongCT/20120618_TURBINECT_0180_42_500_0050.fits',\n",
      " '/Users/j35/git/notebooks/myIPythonNotebookTutorial/tomopy/data/TurbineLongCT/20120618_TURBINECT_0180_43_350_0051.fits',\n",
      " '/Users/j35/git/notebooks/myIPythonNotebookTutorial/tomopy/data/TurbineLongCT/20120618_TURBINECT_0180_44_200_0052.fits',\n",
      " '/Users/j35/git/notebooks/myIPythonNotebookTutorial/tomopy/data/TurbineLongCT/20120618_TURBINECT_0180_45_050_0053.fits',\n",
      " '/Users/j35/git/notebooks/myIPythonNotebookTutorial/tomopy/data/TurbineLongCT/20120618_TURBINECT_0180_45_900_0054.fits',\n",
      " '/Users/j35/git/notebooks/myIPythonNotebookTutorial/tomopy/data/TurbineLongCT/20120618_TURBINECT_0180_46_750_0055.fits',\n",
      " '/Users/j35/git/notebooks/myIPythonNotebookTutorial/tomopy/data/TurbineLongCT/20120618_TURBINECT_0180_47_600_0056.fits',\n",
      " '/Users/j35/git/notebooks/myIPythonNotebookTutorial/tomopy/data/TurbineLongCT/20120618_TURBINECT_0180_48_450_0057.fits',\n",
      " '/Users/j35/git/notebooks/myIPythonNotebookTutorial/tomopy/data/TurbineLongCT/20120618_TURBINECT_0180_49_300_0058.fits',\n",
      " '/Users/j35/git/notebooks/myIPythonNotebookTutorial/tomopy/data/TurbineLongCT/20120618_TURBINECT_0180_4_250_0005.fits',\n",
      " '/Users/j35/git/notebooks/myIPythonNotebookTutorial/tomopy/data/TurbineLongCT/20120618_TURBINECT_0180_50_150_0059.fits',\n",
      " '/Users/j35/git/notebooks/myIPythonNotebookTutorial/tomopy/data/TurbineLongCT/20120618_TURBINECT_0180_51_000_0060.fits',\n",
      " '/Users/j35/git/notebooks/myIPythonNotebookTutorial/tomopy/data/TurbineLongCT/20120618_TURBINECT_0180_51_850_0061.fits',\n",
      " '/Users/j35/git/notebooks/myIPythonNotebookTutorial/tomopy/data/TurbineLongCT/20120618_TURBINECT_0180_52_700_0062.fits',\n",
      " '/Users/j35/git/notebooks/myIPythonNotebookTutorial/tomopy/data/TurbineLongCT/20120618_TURBINECT_0180_53_550_0063.fits',\n",
      " '/Users/j35/git/notebooks/myIPythonNotebookTutorial/tomopy/data/TurbineLongCT/20120618_TURBINECT_0180_54_400_0064.fits',\n",
      " '/Users/j35/git/notebooks/myIPythonNotebookTutorial/tomopy/data/TurbineLongCT/20120618_TURBINECT_0180_55_250_0065.fits',\n",
      " '/Users/j35/git/notebooks/myIPythonNotebookTutorial/tomopy/data/TurbineLongCT/20120618_TURBINECT_0180_56_100_0066.fits',\n",
      " '/Users/j35/git/notebooks/myIPythonNotebookTutorial/tomopy/data/TurbineLongCT/20120618_TURBINECT_0180_56_950_0067.fits',\n",
      " '/Users/j35/git/notebooks/myIPythonNotebookTutorial/tomopy/data/TurbineLongCT/20120618_TURBINECT_0180_57_800_0068.fits',\n",
      " '/Users/j35/git/notebooks/myIPythonNotebookTutorial/tomopy/data/TurbineLongCT/20120618_TURBINECT_0180_58_650_0069.fits',\n",
      " '/Users/j35/git/notebooks/myIPythonNotebookTutorial/tomopy/data/TurbineLongCT/20120618_TURBINECT_0180_5_100_0006.fits',\n",
      " '/Users/j35/git/notebooks/myIPythonNotebookTutorial/tomopy/data/TurbineLongCT/20120618_TURBINECT_0180_5_950_0007.fits',\n",
      " '/Users/j35/git/notebooks/myIPythonNotebookTutorial/tomopy/data/TurbineLongCT/20120618_TURBINECT_0180_6_800_0008.fits',\n",
      " '/Users/j35/git/notebooks/myIPythonNotebookTutorial/tomopy/data/TurbineLongCT/20120618_TURBINECT_0180_7_650_0009.fits',\n",
      " '/Users/j35/git/notebooks/myIPythonNotebookTutorial/tomopy/data/TurbineLongCT/20120618_TURBINECT_0180_8_500_0010.fits',\n",
      " '/Users/j35/git/notebooks/myIPythonNotebookTutorial/tomopy/data/TurbineLongCT/20120618_TURBINECT_0180_9_350_0011.fits',\n",
      " '/Users/j35/git/notebooks/myIPythonNotebookTutorial/tomopy/data/TurbineLongCT/20120619_TURBINECT_0180_100_300_0118.fits',\n",
      " '/Users/j35/git/notebooks/myIPythonNotebookTutorial/tomopy/data/TurbineLongCT/20120619_TURBINECT_0180_101_150_0119.fits',\n",
      " '/Users/j35/git/notebooks/myIPythonNotebookTutorial/tomopy/data/TurbineLongCT/20120619_TURBINECT_0180_102_000_0120.fits',\n",
      " '/Users/j35/git/notebooks/myIPythonNotebookTutorial/tomopy/data/TurbineLongCT/20120619_TURBINECT_0180_102_850_0121.fits',\n",
      " '/Users/j35/git/notebooks/myIPythonNotebookTutorial/tomopy/data/TurbineLongCT/20120619_TURBINECT_0180_103_700_0122.fits',\n",
      " '/Users/j35/git/notebooks/myIPythonNotebookTutorial/tomopy/data/TurbineLongCT/20120619_TURBINECT_0180_104_550_0123.fits',\n",
      " '/Users/j35/git/notebooks/myIPythonNotebookTutorial/tomopy/data/TurbineLongCT/20120619_TURBINECT_0180_105_400_0124.fits',\n",
      " '/Users/j35/git/notebooks/myIPythonNotebookTutorial/tomopy/data/TurbineLongCT/20120619_TURBINECT_0180_106_250_0125.fits',\n",
      " '/Users/j35/git/notebooks/myIPythonNotebookTutorial/tomopy/data/TurbineLongCT/20120619_TURBINECT_0180_107_100_0126.fits',\n",
      " '/Users/j35/git/notebooks/myIPythonNotebookTutorial/tomopy/data/TurbineLongCT/20120619_TURBINECT_0180_107_950_0127.fits',\n",
      " '/Users/j35/git/notebooks/myIPythonNotebookTutorial/tomopy/data/TurbineLongCT/20120619_TURBINECT_0180_108_800_0128.fits',\n",
      " '/Users/j35/git/notebooks/myIPythonNotebookTutorial/tomopy/data/TurbineLongCT/20120619_TURBINECT_0180_109_650_0129.fits',\n",
      " '/Users/j35/git/notebooks/myIPythonNotebookTutorial/tomopy/data/TurbineLongCT/20120619_TURBINECT_0180_110_500_0130.fits',\n",
      " '/Users/j35/git/notebooks/myIPythonNotebookTutorial/tomopy/data/TurbineLongCT/20120619_TURBINECT_0180_111_350_0131.fits',\n",
      " '/Users/j35/git/notebooks/myIPythonNotebookTutorial/tomopy/data/TurbineLongCT/20120619_TURBINECT_0180_112_200_0132.fits',\n",
      " '/Users/j35/git/notebooks/myIPythonNotebookTutorial/tomopy/data/TurbineLongCT/20120619_TURBINECT_0180_113_050_0133.fits',\n",
      " '/Users/j35/git/notebooks/myIPythonNotebookTutorial/tomopy/data/TurbineLongCT/20120619_TURBINECT_0180_113_900_0134.fits',\n",
      " '/Users/j35/git/notebooks/myIPythonNotebookTutorial/tomopy/data/TurbineLongCT/20120619_TURBINECT_0180_114_750_0135.fits',\n",
      " '/Users/j35/git/notebooks/myIPythonNotebookTutorial/tomopy/data/TurbineLongCT/20120619_TURBINECT_0180_115_600_0136.fits',\n",
      " '/Users/j35/git/notebooks/myIPythonNotebookTutorial/tomopy/data/TurbineLongCT/20120619_TURBINECT_0180_116_450_0137.fits',\n",
      " '/Users/j35/git/notebooks/myIPythonNotebookTutorial/tomopy/data/TurbineLongCT/20120619_TURBINECT_0180_117_300_0138.fits',\n",
      " '/Users/j35/git/notebooks/myIPythonNotebookTutorial/tomopy/data/TurbineLongCT/20120619_TURBINECT_0180_118_150_0139.fits',\n",
      " '/Users/j35/git/notebooks/myIPythonNotebookTutorial/tomopy/data/TurbineLongCT/20120619_TURBINECT_0180_119_000_0140.fits',\n",
      " '/Users/j35/git/notebooks/myIPythonNotebookTutorial/tomopy/data/TurbineLongCT/20120619_TURBINECT_0180_119_850_0141.fits',\n",
      " '/Users/j35/git/notebooks/myIPythonNotebookTutorial/tomopy/data/TurbineLongCT/20120619_TURBINECT_0180_120_700_0142.fits',\n",
      " '/Users/j35/git/notebooks/myIPythonNotebookTutorial/tomopy/data/TurbineLongCT/20120619_TURBINECT_0180_121_550_0143.fits',\n",
      " '/Users/j35/git/notebooks/myIPythonNotebookTutorial/tomopy/data/TurbineLongCT/20120619_TURBINECT_0180_122_400_0144.fits',\n",
      " '/Users/j35/git/notebooks/myIPythonNotebookTutorial/tomopy/data/TurbineLongCT/20120619_TURBINECT_0180_123_250_0145.fits',\n",
      " '/Users/j35/git/notebooks/myIPythonNotebookTutorial/tomopy/data/TurbineLongCT/20120619_TURBINECT_0180_124_100_0146.fits',\n",
      " '/Users/j35/git/notebooks/myIPythonNotebookTutorial/tomopy/data/TurbineLongCT/20120619_TURBINECT_0180_124_950_0147.fits',\n",
      " '/Users/j35/git/notebooks/myIPythonNotebookTutorial/tomopy/data/TurbineLongCT/20120619_TURBINECT_0180_125_800_0148.fits',\n",
      " '/Users/j35/git/notebooks/myIPythonNotebookTutorial/tomopy/data/TurbineLongCT/20120619_TURBINECT_0180_126_650_0149.fits',\n",
      " '/Users/j35/git/notebooks/myIPythonNotebookTutorial/tomopy/data/TurbineLongCT/20120619_TURBINECT_0180_127_500_0150.fits',\n",
      " '/Users/j35/git/notebooks/myIPythonNotebookTutorial/tomopy/data/TurbineLongCT/20120619_TURBINECT_0180_128_350_0151.fits',\n",
      " '/Users/j35/git/notebooks/myIPythonNotebookTutorial/tomopy/data/TurbineLongCT/20120619_TURBINECT_0180_129_200_0152.fits',\n",
      " '/Users/j35/git/notebooks/myIPythonNotebookTutorial/tomopy/data/TurbineLongCT/20120619_TURBINECT_0180_130_050_0153.fits',\n",
      " '/Users/j35/git/notebooks/myIPythonNotebookTutorial/tomopy/data/TurbineLongCT/20120619_TURBINECT_0180_130_900_0154.fits',\n",
      " '/Users/j35/git/notebooks/myIPythonNotebookTutorial/tomopy/data/TurbineLongCT/20120619_TURBINECT_0180_131_750_0155.fits',\n",
      " '/Users/j35/git/notebooks/myIPythonNotebookTutorial/tomopy/data/TurbineLongCT/20120619_TURBINECT_0180_132_600_0156.fits',\n",
      " '/Users/j35/git/notebooks/myIPythonNotebookTutorial/tomopy/data/TurbineLongCT/20120619_TURBINECT_0180_133_450_0157.fits',\n",
      " '/Users/j35/git/notebooks/myIPythonNotebookTutorial/tomopy/data/TurbineLongCT/20120619_TURBINECT_0180_134_300_0158.fits',\n",
      " '/Users/j35/git/notebooks/myIPythonNotebookTutorial/tomopy/data/TurbineLongCT/20120619_TURBINECT_0180_135_150_0159.fits',\n",
      " '/Users/j35/git/notebooks/myIPythonNotebookTutorial/tomopy/data/TurbineLongCT/20120619_TURBINECT_0180_136_000_0160.fits',\n",
      " '/Users/j35/git/notebooks/myIPythonNotebookTutorial/tomopy/data/TurbineLongCT/20120619_TURBINECT_0180_136_850_0161.fits',\n",
      " '/Users/j35/git/notebooks/myIPythonNotebookTutorial/tomopy/data/TurbineLongCT/20120619_TURBINECT_0180_137_700_0162.fits',\n",
      " '/Users/j35/git/notebooks/myIPythonNotebookTutorial/tomopy/data/TurbineLongCT/20120619_TURBINECT_0180_138_550_0163.fits',\n",
      " '/Users/j35/git/notebooks/myIPythonNotebookTutorial/tomopy/data/TurbineLongCT/20120619_TURBINECT_0180_139_400_0164.fits',\n",
      " '/Users/j35/git/notebooks/myIPythonNotebookTutorial/tomopy/data/TurbineLongCT/20120619_TURBINECT_0180_140_250_0165.fits',\n",
      " '/Users/j35/git/notebooks/myIPythonNotebookTutorial/tomopy/data/TurbineLongCT/20120619_TURBINECT_0180_141_100_0166.fits',\n",
      " '/Users/j35/git/notebooks/myIPythonNotebookTutorial/tomopy/data/TurbineLongCT/20120619_TURBINECT_0180_141_950_0167.fits',\n",
      " '/Users/j35/git/notebooks/myIPythonNotebookTutorial/tomopy/data/TurbineLongCT/20120619_TURBINECT_0180_142_800_0168.fits',\n",
      " '/Users/j35/git/notebooks/myIPythonNotebookTutorial/tomopy/data/TurbineLongCT/20120619_TURBINECT_0180_143_650_0169.fits',\n",
      " '/Users/j35/git/notebooks/myIPythonNotebookTutorial/tomopy/data/TurbineLongCT/20120619_TURBINECT_0180_144_500_0170.fits',\n",
      " '/Users/j35/git/notebooks/myIPythonNotebookTutorial/tomopy/data/TurbineLongCT/20120619_TURBINECT_0180_145_350_0171.fits',\n",
      " '/Users/j35/git/notebooks/myIPythonNotebookTutorial/tomopy/data/TurbineLongCT/20120619_TURBINECT_0180_146_200_0172.fits',\n",
      " '/Users/j35/git/notebooks/myIPythonNotebookTutorial/tomopy/data/TurbineLongCT/20120619_TURBINECT_0180_147_050_0173.fits',\n",
      " '/Users/j35/git/notebooks/myIPythonNotebookTutorial/tomopy/data/TurbineLongCT/20120619_TURBINECT_0180_147_900_0174.fits',\n",
      " '/Users/j35/git/notebooks/myIPythonNotebookTutorial/tomopy/data/TurbineLongCT/20120619_TURBINECT_0180_148_750_0175.fits',\n",
      " '/Users/j35/git/notebooks/myIPythonNotebookTutorial/tomopy/data/TurbineLongCT/20120619_TURBINECT_0180_149_600_0176.fits',\n",
      " '/Users/j35/git/notebooks/myIPythonNotebookTutorial/tomopy/data/TurbineLongCT/20120619_TURBINECT_0180_150_450_0177.fits',\n",
      " '/Users/j35/git/notebooks/myIPythonNotebookTutorial/tomopy/data/TurbineLongCT/20120619_TURBINECT_0180_151_300_0178.fits',\n",
      " '/Users/j35/git/notebooks/myIPythonNotebookTutorial/tomopy/data/TurbineLongCT/20120619_TURBINECT_0180_152_150_0179.fits',\n",
      " '/Users/j35/git/notebooks/myIPythonNotebookTutorial/tomopy/data/TurbineLongCT/20120619_TURBINECT_0180_153_000_0180.fits',\n",
      " '/Users/j35/git/notebooks/myIPythonNotebookTutorial/tomopy/data/TurbineLongCT/20120619_TURBINECT_0180_153_850_0181.fits',\n",
      " '/Users/j35/git/notebooks/myIPythonNotebookTutorial/tomopy/data/TurbineLongCT/20120619_TURBINECT_0180_154_700_0182.fits',\n",
      " '/Users/j35/git/notebooks/myIPythonNotebookTutorial/tomopy/data/TurbineLongCT/20120619_TURBINECT_0180_155_550_0183.fits',\n",
      " '/Users/j35/git/notebooks/myIPythonNotebookTutorial/tomopy/data/TurbineLongCT/20120619_TURBINECT_0180_156_400_0184.fits',\n",
      " '/Users/j35/git/notebooks/myIPythonNotebookTutorial/tomopy/data/TurbineLongCT/20120619_TURBINECT_0180_157_250_0185.fits',\n",
      " '/Users/j35/git/notebooks/myIPythonNotebookTutorial/tomopy/data/TurbineLongCT/20120619_TURBINECT_0180_158_100_0186.fits',\n",
      " '/Users/j35/git/notebooks/myIPythonNotebookTutorial/tomopy/data/TurbineLongCT/20120619_TURBINECT_0180_158_950_0187.fits',\n",
      " '/Users/j35/git/notebooks/myIPythonNotebookTutorial/tomopy/data/TurbineLongCT/20120619_TURBINECT_0180_159_800_0188.fits',\n",
      " '/Users/j35/git/notebooks/myIPythonNotebookTutorial/tomopy/data/TurbineLongCT/20120619_TURBINECT_0180_160_650_0189.fits',\n",
      " '/Users/j35/git/notebooks/myIPythonNotebookTutorial/tomopy/data/TurbineLongCT/20120619_TURBINECT_0180_161_500_0190.fits',\n",
      " '/Users/j35/git/notebooks/myIPythonNotebookTutorial/tomopy/data/TurbineLongCT/20120619_TURBINECT_0180_162_350_0191.fits',\n",
      " '/Users/j35/git/notebooks/myIPythonNotebookTutorial/tomopy/data/TurbineLongCT/20120619_TURBINECT_0180_163_200_0192.fits',\n",
      " '/Users/j35/git/notebooks/myIPythonNotebookTutorial/tomopy/data/TurbineLongCT/20120619_TURBINECT_0180_164_050_0193.fits',\n",
      " '/Users/j35/git/notebooks/myIPythonNotebookTutorial/tomopy/data/TurbineLongCT/20120619_TURBINECT_0180_164_900_0194.fits',\n",
      " '/Users/j35/git/notebooks/myIPythonNotebookTutorial/tomopy/data/TurbineLongCT/20120619_TURBINECT_0180_165_750_0195.fits',\n",
      " '/Users/j35/git/notebooks/myIPythonNotebookTutorial/tomopy/data/TurbineLongCT/20120619_TURBINECT_0180_166_600_0196.fits',\n",
      " '/Users/j35/git/notebooks/myIPythonNotebookTutorial/tomopy/data/TurbineLongCT/20120619_TURBINECT_0180_167_450_0197.fits',\n",
      " '/Users/j35/git/notebooks/myIPythonNotebookTutorial/tomopy/data/TurbineLongCT/20120619_TURBINECT_0180_168_300_0198.fits',\n",
      " '/Users/j35/git/notebooks/myIPythonNotebookTutorial/tomopy/data/TurbineLongCT/20120619_TURBINECT_0180_169_150_0199.fits',\n",
      " '/Users/j35/git/notebooks/myIPythonNotebookTutorial/tomopy/data/TurbineLongCT/20120619_TURBINECT_0180_170_000_0200.fits',\n",
      " '/Users/j35/git/notebooks/myIPythonNotebookTutorial/tomopy/data/TurbineLongCT/20120619_TURBINECT_0180_170_850_0201.fits',\n",
      " '/Users/j35/git/notebooks/myIPythonNotebookTutorial/tomopy/data/TurbineLongCT/20120619_TURBINECT_0180_171_700_0202.fits',\n",
      " '/Users/j35/git/notebooks/myIPythonNotebookTutorial/tomopy/data/TurbineLongCT/20120619_TURBINECT_0180_172_550_0203.fits',\n",
      " '/Users/j35/git/notebooks/myIPythonNotebookTutorial/tomopy/data/TurbineLongCT/20120619_TURBINECT_0180_173_400_0204.fits',\n",
      " '/Users/j35/git/notebooks/myIPythonNotebookTutorial/tomopy/data/TurbineLongCT/20120619_TURBINECT_0180_174_250_0205.fits',\n",
      " '/Users/j35/git/notebooks/myIPythonNotebookTutorial/tomopy/data/TurbineLongCT/20120619_TURBINECT_0180_175_100_0206.fits',\n",
      " '/Users/j35/git/notebooks/myIPythonNotebookTutorial/tomopy/data/TurbineLongCT/20120619_TURBINECT_0180_175_950_0207.fits',\n",
      " '/Users/j35/git/notebooks/myIPythonNotebookTutorial/tomopy/data/TurbineLongCT/20120619_TURBINECT_0180_176_800_0208.fits',\n",
      " '/Users/j35/git/notebooks/myIPythonNotebookTutorial/tomopy/data/TurbineLongCT/20120619_TURBINECT_0180_177_650_0209.fits',\n",
      " '/Users/j35/git/notebooks/myIPythonNotebookTutorial/tomopy/data/TurbineLongCT/20120619_TURBINECT_0180_178_500_0210.fits',\n",
      " '/Users/j35/git/notebooks/myIPythonNotebookTutorial/tomopy/data/TurbineLongCT/20120619_TURBINECT_0180_179_350_0211.fits',\n",
      " '/Users/j35/git/notebooks/myIPythonNotebookTutorial/tomopy/data/TurbineLongCT/20120619_TURBINECT_0180_180_200_0212.fits',\n",
      " '/Users/j35/git/notebooks/myIPythonNotebookTutorial/tomopy/data/TurbineLongCT/20120619_TURBINECT_0180_181_050_0213.fits',\n",
      " '/Users/j35/git/notebooks/myIPythonNotebookTutorial/tomopy/data/TurbineLongCT/20120619_TURBINECT_0180_181_900_0214.fits',\n",
      " '/Users/j35/git/notebooks/myIPythonNotebookTutorial/tomopy/data/TurbineLongCT/20120619_TURBINECT_0180_59_500_0070.fits',\n",
      " '/Users/j35/git/notebooks/myIPythonNotebookTutorial/tomopy/data/TurbineLongCT/20120619_TURBINECT_0180_60_350_0071.fits',\n",
      " '/Users/j35/git/notebooks/myIPythonNotebookTutorial/tomopy/data/TurbineLongCT/20120619_TURBINECT_0180_61_200_0072.fits',\n",
      " '/Users/j35/git/notebooks/myIPythonNotebookTutorial/tomopy/data/TurbineLongCT/20120619_TURBINECT_0180_62_050_0073.fits',\n",
      " '/Users/j35/git/notebooks/myIPythonNotebookTutorial/tomopy/data/TurbineLongCT/20120619_TURBINECT_0180_62_900_0074.fits',\n",
      " '/Users/j35/git/notebooks/myIPythonNotebookTutorial/tomopy/data/TurbineLongCT/20120619_TURBINECT_0180_63_750_0075.fits',\n",
      " '/Users/j35/git/notebooks/myIPythonNotebookTutorial/tomopy/data/TurbineLongCT/20120619_TURBINECT_0180_64_600_0076.fits',\n",
      " '/Users/j35/git/notebooks/myIPythonNotebookTutorial/tomopy/data/TurbineLongCT/20120619_TURBINECT_0180_65_450_0077.fits',\n",
      " '/Users/j35/git/notebooks/myIPythonNotebookTutorial/tomopy/data/TurbineLongCT/20120619_TURBINECT_0180_66_300_0078.fits',\n",
      " '/Users/j35/git/notebooks/myIPythonNotebookTutorial/tomopy/data/TurbineLongCT/20120619_TURBINECT_0180_67_150_0079.fits',\n",
      " '/Users/j35/git/notebooks/myIPythonNotebookTutorial/tomopy/data/TurbineLongCT/20120619_TURBINECT_0180_68_000_0080.fits',\n",
      " '/Users/j35/git/notebooks/myIPythonNotebookTutorial/tomopy/data/TurbineLongCT/20120619_TURBINECT_0180_68_850_0081.fits',\n",
      " '/Users/j35/git/notebooks/myIPythonNotebookTutorial/tomopy/data/TurbineLongCT/20120619_TURBINECT_0180_69_700_0082.fits',\n",
      " '/Users/j35/git/notebooks/myIPythonNotebookTutorial/tomopy/data/TurbineLongCT/20120619_TURBINECT_0180_70_550_0083.fits',\n",
      " '/Users/j35/git/notebooks/myIPythonNotebookTutorial/tomopy/data/TurbineLongCT/20120619_TURBINECT_0180_71_400_0084.fits',\n",
      " '/Users/j35/git/notebooks/myIPythonNotebookTutorial/tomopy/data/TurbineLongCT/20120619_TURBINECT_0180_72_250_0085.fits',\n",
      " '/Users/j35/git/notebooks/myIPythonNotebookTutorial/tomopy/data/TurbineLongCT/20120619_TURBINECT_0180_73_100_0086.fits',\n",
      " '/Users/j35/git/notebooks/myIPythonNotebookTutorial/tomopy/data/TurbineLongCT/20120619_TURBINECT_0180_73_950_0087.fits',\n",
      " '/Users/j35/git/notebooks/myIPythonNotebookTutorial/tomopy/data/TurbineLongCT/20120619_TURBINECT_0180_74_800_0088.fits',\n",
      " '/Users/j35/git/notebooks/myIPythonNotebookTutorial/tomopy/data/TurbineLongCT/20120619_TURBINECT_0180_75_650_0089.fits',\n",
      " '/Users/j35/git/notebooks/myIPythonNotebookTutorial/tomopy/data/TurbineLongCT/20120619_TURBINECT_0180_76_500_0090.fits',\n",
      " '/Users/j35/git/notebooks/myIPythonNotebookTutorial/tomopy/data/TurbineLongCT/20120619_TURBINECT_0180_77_350_0091.fits',\n",
      " '/Users/j35/git/notebooks/myIPythonNotebookTutorial/tomopy/data/TurbineLongCT/20120619_TURBINECT_0180_78_200_0092.fits',\n",
      " '/Users/j35/git/notebooks/myIPythonNotebookTutorial/tomopy/data/TurbineLongCT/20120619_TURBINECT_0180_79_050_0093.fits',\n",
      " '/Users/j35/git/notebooks/myIPythonNotebookTutorial/tomopy/data/TurbineLongCT/20120619_TURBINECT_0180_79_900_0094.fits',\n",
      " '/Users/j35/git/notebooks/myIPythonNotebookTutorial/tomopy/data/TurbineLongCT/20120619_TURBINECT_0180_80_750_0095.fits',\n",
      " '/Users/j35/git/notebooks/myIPythonNotebookTutorial/tomopy/data/TurbineLongCT/20120619_TURBINECT_0180_81_600_0096.fits',\n",
      " '/Users/j35/git/notebooks/myIPythonNotebookTutorial/tomopy/data/TurbineLongCT/20120619_TURBINECT_0180_82_450_0097.fits',\n",
      " '/Users/j35/git/notebooks/myIPythonNotebookTutorial/tomopy/data/TurbineLongCT/20120619_TURBINECT_0180_83_300_0098.fits',\n",
      " '/Users/j35/git/notebooks/myIPythonNotebookTutorial/tomopy/data/TurbineLongCT/20120619_TURBINECT_0180_84_150_0099.fits',\n",
      " '/Users/j35/git/notebooks/myIPythonNotebookTutorial/tomopy/data/TurbineLongCT/20120619_TURBINECT_0180_85_000_0100.fits',\n",
      " '/Users/j35/git/notebooks/myIPythonNotebookTutorial/tomopy/data/TurbineLongCT/20120619_TURBINECT_0180_85_850_0101.fits',\n",
      " '/Users/j35/git/notebooks/myIPythonNotebookTutorial/tomopy/data/TurbineLongCT/20120619_TURBINECT_0180_86_700_0102.fits',\n",
      " '/Users/j35/git/notebooks/myIPythonNotebookTutorial/tomopy/data/TurbineLongCT/20120619_TURBINECT_0180_87_550_0103.fits',\n",
      " '/Users/j35/git/notebooks/myIPythonNotebookTutorial/tomopy/data/TurbineLongCT/20120619_TURBINECT_0180_88_400_0104.fits',\n",
      " '/Users/j35/git/notebooks/myIPythonNotebookTutorial/tomopy/data/TurbineLongCT/20120619_TURBINECT_0180_89_250_0105.fits',\n",
      " '/Users/j35/git/notebooks/myIPythonNotebookTutorial/tomopy/data/TurbineLongCT/20120619_TURBINECT_0180_90_100_0106.fits',\n",
      " '/Users/j35/git/notebooks/myIPythonNotebookTutorial/tomopy/data/TurbineLongCT/20120619_TURBINECT_0180_90_950_0107.fits',\n",
      " '/Users/j35/git/notebooks/myIPythonNotebookTutorial/tomopy/data/TurbineLongCT/20120619_TURBINECT_0180_91_800_0108.fits',\n",
      " '/Users/j35/git/notebooks/myIPythonNotebookTutorial/tomopy/data/TurbineLongCT/20120619_TURBINECT_0180_92_650_0109.fits',\n",
      " '/Users/j35/git/notebooks/myIPythonNotebookTutorial/tomopy/data/TurbineLongCT/20120619_TURBINECT_0180_93_500_0110.fits',\n",
      " '/Users/j35/git/notebooks/myIPythonNotebookTutorial/tomopy/data/TurbineLongCT/20120619_TURBINECT_0180_94_350_0111.fits',\n",
      " '/Users/j35/git/notebooks/myIPythonNotebookTutorial/tomopy/data/TurbineLongCT/20120619_TURBINECT_0180_95_200_0112.fits',\n",
      " '/Users/j35/git/notebooks/myIPythonNotebookTutorial/tomopy/data/TurbineLongCT/20120619_TURBINECT_0180_96_050_0113.fits',\n",
      " '/Users/j35/git/notebooks/myIPythonNotebookTutorial/tomopy/data/TurbineLongCT/20120619_TURBINECT_0180_96_900_0114.fits',\n",
      " '/Users/j35/git/notebooks/myIPythonNotebookTutorial/tomopy/data/TurbineLongCT/20120619_TURBINECT_0180_97_750_0115.fits',\n",
      " '/Users/j35/git/notebooks/myIPythonNotebookTutorial/tomopy/data/TurbineLongCT/20120619_TURBINECT_0180_98_600_0116.fits',\n",
      " '/Users/j35/git/notebooks/myIPythonNotebookTutorial/tomopy/data/TurbineLongCT/20120619_TURBINECT_0180_99_450_0117.fits']\n"
     ]
    }
   ],
   "source": [
    "#list_data_files.sort()\n",
    "#pprint(list_data_files)\n"
   ]
  },
  {
   "cell_type": "code",
   "execution_count": 213,
   "metadata": {
    "collapsed": true
   },
   "outputs": [],
   "source": [
    "data = []\n",
    "for _file in list_data_files:\n",
    "    data.append(pyfits.open(_file)[0].data)"
   ]
  },
  {
   "cell_type": "code",
   "execution_count": 214,
   "metadata": {
    "collapsed": false
   },
   "outputs": [],
   "source": [
    "proj = tomopy.normalize(data, ob_data, df_data)"
   ]
  },
  {
   "cell_type": "code",
   "execution_count": 215,
   "metadata": {
    "collapsed": true
   },
   "outputs": [],
   "source": [
    "step = 0.85"
   ]
  },
  {
   "cell_type": "code",
   "execution_count": 216,
   "metadata": {
    "collapsed": false
   },
   "outputs": [
    {
     "name": "stdout",
     "output_type": "stream",
     "text": [
      "[   0.      0.85    1.7     2.55    3.4     4.25    5.1     5.95    6.8\n",
      "    7.65    8.5     9.35   10.2    11.05   11.9    12.75   13.6    14.45\n",
      "   15.3    16.15   17.     17.85   18.7    19.55   20.4    21.25   22.1\n",
      "   22.95   23.8    24.65   25.5    26.35   27.2    28.05   28.9    29.75\n",
      "   30.6    31.45   32.3    33.15   34.     34.85   35.7    36.55   37.4\n",
      "   38.25   39.1    39.95   40.8    41.65   42.5    43.35   44.2    45.05\n",
      "   45.9    46.75   47.6    48.45   49.3    50.15   51.     51.85   52.7\n",
      "   53.55   54.4    55.25   56.1    56.95   57.8    58.65   59.5    60.35\n",
      "   61.2    62.05   62.9    63.75   64.6    65.45   66.3    67.15   68.\n",
      "   68.85   69.7    70.55   71.4    72.25   73.1    73.95   74.8    75.65\n",
      "   76.5    77.35   78.2    79.05   79.9    80.75   81.6    82.45   83.3\n",
      "   84.15   85.     85.85   86.7    87.55   88.4    89.25   90.1    90.95\n",
      "   91.8    92.65   93.5    94.35   95.2    96.05   96.9    97.75   98.6\n",
      "   99.45  100.3   101.15  102.    102.85  103.7   104.55  105.4   106.25\n",
      "  107.1   107.95  108.8   109.65  110.5   111.35  112.2   113.05  113.9\n",
      "  114.75  115.6   116.45  117.3   118.15  119.    119.85  120.7   121.55\n",
      "  122.4   123.25  124.1   124.95  125.8   126.65  127.5   128.35  129.2\n",
      "  130.05  130.9   131.75  132.6   133.45  134.3   135.15  136.    136.85\n",
      "  137.7   138.55  139.4   140.25  141.1   141.95  142.8   143.65  144.5\n",
      "  145.35  146.2   147.05  147.9   148.75  149.6   150.45  151.3   152.15\n",
      "  153.    153.85  154.7   155.55  156.4   157.25  158.1   158.95  159.8\n",
      "  160.65  161.5   162.35  163.2   164.05  164.9   165.75  166.6   167.45\n",
      "  168.3   169.15  170.    170.85  171.7   172.55  173.4   174.25  175.1\n",
      "  175.95  176.8   177.65  178.5   179.35  180.2   181.05  181.9 ]\n"
     ]
    }
   ],
   "source": [
    "theta = np.pi/180.*(np.arange(0.0, 181.9+step, step))\n",
    "print(np.arange(0.0, 181.9+step, step))"
   ]
  },
  {
   "cell_type": "code",
   "execution_count": 217,
   "metadata": {
    "collapsed": false
   },
   "outputs": [
    {
     "name": "stdout",
     "output_type": "stream",
     "text": [
      "array([ 0.        ,  0.0148353 ,  0.0296706 ,  0.0445059 ,  0.05934119,\n",
      "        0.07417649,  0.08901179,  0.10384709,  0.11868239,  0.13351769,\n",
      "        0.14835299,  0.16318829,  0.17802358,  0.19285888,  0.20769418,\n",
      "        0.22252948,  0.23736478,  0.25220008,  0.26703538,  0.28187067,\n",
      "        0.29670597,  0.31154127,  0.32637657,  0.34121187,  0.35604717,\n",
      "        0.37088247,  0.38571776,  0.40055306,  0.41538836,  0.43022366,\n",
      "        0.44505896,  0.45989426,  0.47472956,  0.48956486,  0.50440015,\n",
      "        0.51923545,  0.53407075,  0.54890605,  0.56374135,  0.57857665,\n",
      "        0.59341195,  0.60824724,  0.62308254,  0.63791784,  0.65275314,\n",
      "        0.66758844,  0.68242374,  0.69725904,  0.71209433,  0.72692963,\n",
      "        0.74176493,  0.75660023,  0.77143553,  0.78627083,  0.80110613,\n",
      "        0.81594143,  0.83077672,  0.84561202,  0.86044732,  0.87528262,\n",
      "        0.89011792,  0.90495322,  0.91978852,  0.93462381,  0.94945911,\n",
      "        0.96429441,  0.97912971,  0.99396501,  1.00880031,  1.02363561,\n",
      "        1.0384709 ,  1.0533062 ,  1.0681415 ,  1.0829768 ,  1.0978121 ,\n",
      "        1.1126474 ,  1.1274827 ,  1.142318  ,  1.15715329,  1.17198859,\n",
      "        1.18682389,  1.20165919,  1.21649449,  1.23132979,  1.24616509,\n",
      "        1.26100038,  1.27583568,  1.29067098,  1.30550628,  1.32034158,\n",
      "        1.33517688,  1.35001218,  1.36484748,  1.37968277,  1.39451807,\n",
      "        1.40935337,  1.42418867,  1.43902397,  1.45385927,  1.46869457,\n",
      "        1.48352986,  1.49836516,  1.51320046,  1.52803576,  1.54287106,\n",
      "        1.55770636,  1.57254166,  1.58737695,  1.60221225,  1.61704755,\n",
      "        1.63188285,  1.64671815,  1.66155345,  1.67638875,  1.69122405,\n",
      "        1.70605934,  1.72089464,  1.73572994,  1.75056524,  1.76540054,\n",
      "        1.78023584,  1.79507114,  1.80990643,  1.82474173,  1.83957703,\n",
      "        1.85441233,  1.86924763,  1.88408293,  1.89891823,  1.91375352,\n",
      "        1.92858882,  1.94342412,  1.95825942,  1.97309472,  1.98793002,\n",
      "        2.00276532,  2.01760062,  2.03243591,  2.04727121,  2.06210651,\n",
      "        2.07694181,  2.09177711,  2.10661241,  2.12144771,  2.136283  ,\n",
      "        2.1511183 ,  2.1659536 ,  2.1807889 ,  2.1956242 ,  2.2104595 ,\n",
      "        2.2252948 ,  2.24013009,  2.25496539,  2.26980069,  2.28463599,\n",
      "        2.29947129,  2.31430659,  2.32914189,  2.34397719,  2.35881248,\n",
      "        2.37364778,  2.38848308,  2.40331838,  2.41815368,  2.43298898,\n",
      "        2.44782428,  2.46265957,  2.47749487,  2.49233017,  2.50716547,\n",
      "        2.52200077,  2.53683607,  2.55167137,  2.56650667,  2.58134196,\n",
      "        2.59617726,  2.61101256,  2.62584786,  2.64068316,  2.65551846,\n",
      "        2.67035376,  2.68518905,  2.70002435,  2.71485965,  2.72969495,\n",
      "        2.74453025,  2.75936555,  2.77420085,  2.78903614,  2.80387144,\n",
      "        2.81870674,  2.83354204,  2.84837734,  2.86321264,  2.87804794,\n",
      "        2.89288324,  2.90771853,  2.92255383,  2.93738913,  2.95222443,\n",
      "        2.96705973,  2.98189503,  2.99673033,  3.01156562,  3.02640092,\n",
      "        3.04123622,  3.05607152,  3.07090682,  3.08574212,  3.10057742,\n",
      "        3.11541271,  3.13024801,  3.14508331,  3.15991861,  3.17475391])\n"
     ]
    }
   ],
   "source": [
    "pprint(theta)"
   ]
  },
  {
   "cell_type": "code",
   "execution_count": 68,
   "metadata": {
    "collapsed": true
   },
   "outputs": [],
   "source": [
    "import matplotlib.pyplot as plt"
   ]
  },
  {
   "cell_type": "code",
   "execution_count": 69,
   "metadata": {
    "collapsed": true
   },
   "outputs": [],
   "source": [
    "%matplotlib notebook"
   ]
  },
  {
   "cell_type": "code",
   "execution_count": 141,
   "metadata": {
    "collapsed": false
   },
   "outputs": [],
   "source": [
    "# proj = np.r_[proj[0:70], proj[81:225]].copy()\n",
    "#theta = np.r_[theta[0:70], theta[81:225]].copy()"
   ]
  },
  {
   "cell_type": "code",
   "execution_count": 224,
   "metadata": {
    "collapsed": false
   },
   "outputs": [
    {
     "name": "stdout",
     "output_type": "stream",
     "text": [
      "('Center of rotation: ', array([ 1023.2]))\n"
     ]
    }
   ],
   "source": [
    "rot_center = tomopy.find_center(proj, theta, emission=False, init=1024, tol=0.5)\n",
    "print(\"Center of rotation: \", rot_center)"
   ]
  },
  {
   "cell_type": "code",
   "execution_count": 219,
   "metadata": {
    "collapsed": false
   },
   "outputs": [
    {
     "name": "stdout",
     "output_type": "stream",
     "text": [
      "(215, 2048, 2048)\n"
     ]
    }
   ],
   "source": [
    "print proj.shape\n",
    "tomopy.write_center(proj.copy(), theta, dpath='/Users/j35/Desktop/data/tmp', emission=False)"
   ]
  },
  {
   "cell_type": "code",
   "execution_count": 228,
   "metadata": {
    "collapsed": false
   },
   "outputs": [
    {
     "name": "stdout",
     "output_type": "stream",
     "text": [
      "(215, 2048, 2048)\n"
     ]
    },
    {
     "ename": "UnboundLocalError",
     "evalue": "local variable 'init' referenced before assignment",
     "output_type": "error",
     "traceback": [
      "\u001b[0;31m---------------------------------------------------------------------------\u001b[0m",
      "\u001b[0;31mUnboundLocalError\u001b[0m                         Traceback (most recent call last)",
      "\u001b[0;32m<ipython-input-228-14b40d78f33a>\u001b[0m in \u001b[0;36m<module>\u001b[0;34m()\u001b[0m\n\u001b[1;32m      1\u001b[0m \u001b[0;32mprint\u001b[0m \u001b[0mproj\u001b[0m\u001b[0;34m.\u001b[0m\u001b[0mshape\u001b[0m\u001b[0;34m\u001b[0m\u001b[0m\n\u001b[0;32m----> 2\u001b[0;31m \u001b[0mrot_center\u001b[0m \u001b[0;34m=\u001b[0m \u001b[0mtomopy\u001b[0m\u001b[0;34m.\u001b[0m\u001b[0mfind_center_vo\u001b[0m\u001b[0;34m(\u001b[0m\u001b[0mproj\u001b[0m\u001b[0;34m.\u001b[0m\u001b[0mcopy\u001b[0m\u001b[0;34m(\u001b[0m\u001b[0;34m)\u001b[0m\u001b[0;34m)\u001b[0m\u001b[0;34m\u001b[0m\u001b[0m\n\u001b[0m\u001b[1;32m      3\u001b[0m \u001b[0;32mprint\u001b[0m\u001b[0;34m(\u001b[0m\u001b[0;34m\"Center of rotation: \"\u001b[0m\u001b[0;34m,\u001b[0m \u001b[0mrot_center\u001b[0m\u001b[0;34m)\u001b[0m\u001b[0;34m\u001b[0m\u001b[0m\n",
      "\u001b[0;32m/Users/j35/anaconda/envs/py2/lib/python2.7/site-packages/tomopy/recon/rotation.pyc\u001b[0m in \u001b[0;36mfind_center_vo\u001b[0;34m(tomo, ind, smin, smax, srad, tol, ratio, drop)\u001b[0m\n\u001b[1;32m    217\u001b[0m     \u001b[0;32mif\u001b[0m \u001b[0mind\u001b[0m \u001b[0;32mis\u001b[0m \u001b[0mNone\u001b[0m\u001b[0;34m:\u001b[0m\u001b[0;34m\u001b[0m\u001b[0m\n\u001b[1;32m    218\u001b[0m         \u001b[0mind\u001b[0m \u001b[0;34m=\u001b[0m \u001b[0mtomo\u001b[0m\u001b[0;34m.\u001b[0m\u001b[0mshape\u001b[0m\u001b[0;34m[\u001b[0m\u001b[0;36m1\u001b[0m\u001b[0;34m]\u001b[0m \u001b[0;34m//\u001b[0m \u001b[0;36m2\u001b[0m\u001b[0;34m\u001b[0m\u001b[0m\n\u001b[0;32m--> 219\u001b[0;31m     \u001b[0;32mif\u001b[0m \u001b[0minit\u001b[0m \u001b[0;32mis\u001b[0m \u001b[0mNone\u001b[0m\u001b[0;34m:\u001b[0m\u001b[0;34m\u001b[0m\u001b[0m\n\u001b[0m\u001b[1;32m    220\u001b[0m         \u001b[0minit\u001b[0m \u001b[0;34m=\u001b[0m \u001b[0mtomo\u001b[0m\u001b[0;34m.\u001b[0m\u001b[0mshape\u001b[0m\u001b[0;34m[\u001b[0m\u001b[0;36m2\u001b[0m\u001b[0;34m]\u001b[0m \u001b[0;34m//\u001b[0m \u001b[0;36m2\u001b[0m\u001b[0;34m\u001b[0m\u001b[0m\n\u001b[1;32m    221\u001b[0m \u001b[0;34m\u001b[0m\u001b[0m\n",
      "\u001b[0;31mUnboundLocalError\u001b[0m: local variable 'init' referenced before assignment"
     ]
    }
   ],
   "source": [
    "print proj.shape\n",
    "rot_center = tomopy.find_center_vo(proj.copy())\n",
    "print(\"Center of rotation: \", rot_center)"
   ]
  },
  {
   "cell_type": "code",
   "execution_count": 232,
   "metadata": {
    "collapsed": true
   },
   "outputs": [],
   "source": [
    "proj = tomopy.normalize_bg(data)"
   ]
  },
  {
   "cell_type": "code",
   "execution_count": 230,
   "metadata": {
    "collapsed": false
   },
   "outputs": [
    {
     "data": {
      "text/plain": [
       "<matplotlib.colorbar.Colorbar at 0x225e3b090>"
      ]
     },
     "execution_count": 230,
     "metadata": {},
     "output_type": "execute_result"
    },
    {
     "data": {
      "image/png": "[encoded data removed]",
      "text/plain": [
       "<matplotlib.figure.Figure at 0x1875aa090>"
      ]
     },
     "metadata": {},
     "output_type": "display_data"
    }
   ],
   "source": [
    "fig, ax = plt.subplots()\n",
    "im = plt.imshow(data[0], cmap='gray') #, vmin=0.2, vmax=1.2\n",
    "fig.colorbar(im)"
   ]
  },
  {
   "cell_type": "code",
   "execution_count": 221,
   "metadata": {
    "collapsed": false
   },
   "outputs": [
    {
     "data": {
      "text/plain": [
       "<matplotlib.colorbar.Colorbar at 0x148c94b10>"
      ]
     },
     "execution_count": 221,
     "metadata": {},
     "output_type": "execute_result"
    },
    {
     "data": {
      "image/png": "[encoded data removed]",
      "text/plain": [
       "<matplotlib.figure.Figure at 0x14892fa90>"
      ]
     },
     "metadata": {},
     "output_type": "display_data"
    }
   ],
   "source": [
    "fig, ax = plt.subplots()\n",
    "im = plt.imshow(proj[:, 1000, :], cmap='gray')\n",
    "fig.colorbar(im)"
   ]
  },
  {
   "cell_type": "code",
   "execution_count": 223,
   "metadata": {
    "collapsed": false
   },
   "outputs": [],
   "source": [
    "tomopy.write_tiff_stack(proj, fname='/Users/j35/Desktop/data/sino/tmp', axis=1, overwrite=True)"
   ]
  },
  {
   "cell_type": "code",
   "execution_count": 225,
   "metadata": {
    "collapsed": false
   },
   "outputs": [
    {
     "data": {
      "text/plain": [
       "<matplotlib.colorbar.Colorbar at 0x148f98150>"
      ]
     },
     "execution_count": 225,
     "metadata": {},
     "output_type": "execute_result"
    },
    {
     "data": {
      "image/png": "[encoded data removed]",
      "text/plain": [
       "<matplotlib.figure.Figure at 0x148cb7290>"
      ]
     },
     "metadata": {},
     "output_type": "display_data"
    }
   ],
   "source": [
    "rec = tomopy.recon(proj[:, 600:601, :], theta=theta, center=1023.2, algorithm='gridrec', emission=False)\n",
    "\n",
    "fig, ax = plt.subplots()\n",
    "im = plt.imshow(rec[0], cmap='gray')\n",
    "fig.colorbar(im)"
   ]
  },
  {
   "cell_type": "code",
   "execution_count": 227,
   "metadata": {
    "collapsed": false
   },
   "outputs": [
    {
     "name": "stdout",
     "output_type": "stream",
     "text": [
      "(215, 2048, 2048) (1, 2048, 2048)\n"
     ]
    }
   ],
   "source": [
    "print proj.shape, rec.shape\n",
    "tomopy.write_tiff_stack(rec, fname='/Users/j35/Desktop/data/reco/tmp', axis=0, overwrite=True)"
   ]
  },
  {
   "cell_type": "code",
   "execution_count": null,
   "metadata": {
    "collapsed": true
   },
   "outputs": [],
   "source": []
  }
 ],
 "metadata": {
  "kernelspec": {
   "display_name": "Python 2",
   "language": "python",
   "name": "python2"
  },
  "language_info": {
   "codemirror_mode": {
    "name": "ipython",
    "version": 2
   },
   "file_extension": ".py",
   "mimetype": "text/x-python",
   "name": "python",
   "nbconvert_exporter": "python",
   "pygments_lexer": "ipython2",
   "version": "2.7.11"
  }
 },
 "nbformat": 4,
 "nbformat_minor": 0
}
